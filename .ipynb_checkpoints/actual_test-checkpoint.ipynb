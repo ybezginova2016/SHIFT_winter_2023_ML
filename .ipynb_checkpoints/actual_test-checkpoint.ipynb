{
 "cells": [
  {
   "cell_type": "markdown",
   "id": "a9c9610b",
   "metadata": {},
   "source": [
    "# ML [SHIFT marathon + competition (winter_2023)](https://codalab.lisn.upsaclay.fr/competitions/10132) - часть 2/2\n",
    "\n",
    "### Предсказание модели на реальных данных\n",
    "Обучение модели\n",
    "\n",
    "\n",
    "### Команда: \n",
    "- **Иван**, телеграм *@jet0067*\n",
    "- **Роман**, телеграм *@Renkr*\n",
    "- **Юлия**, телеграм *@ybezginova*\n"
   ]
  },
  {
   "cell_type": "code",
   "execution_count": 2,
   "id": "7f40ccb4",
   "metadata": {},
   "outputs": [],
   "source": [
    "import pandas as pd\n",
    "import numpy as np\n",
    "import matplotlib.pyplot as plt\n",
    "import seaborn as sns\n",
    "import lightgbm as lgb\n",
    "import phik\n",
    "\n",
    "from sklearn.dummy import DummyClassifier\n",
    "from sklearn.metrics import classification_report\n",
    "from sklearn.metrics import accuracy_score\n",
    "from sklearn.ensemble import GradientBoostingClassifier\n",
    "from sklearn.tree import DecisionTreeClassifier\n",
    "from sklearn.ensemble import RandomForestClassifier\n",
    "from catboost import CatBoostClassifier, Pool\n",
    "from sklearn.model_selection import GridSearchCV\n",
    "from sklearn.model_selection import train_test_split\n",
    "from pandas_profiling import ProfileReport\n",
    "from sklearn import preprocessing\n",
    "from sklearn.preprocessing import OrdinalEncoder\n",
    "from phik import resources, report\n",
    "\n",
    "import warnings\n",
    "warnings.simplefilter(\"ignore\", category=RuntimeWarning)\n",
    "pd.options.mode.chained_assignment = None"
   ]
  },
  {
   "cell_type": "markdown",
   "id": "b2fe7e2d",
   "metadata": {},
   "source": [
    "# 1 Загрузка данных"
   ]
  },
  {
   "cell_type": "code",
   "execution_count": 3,
   "id": "be76d32a",
   "metadata": {},
   "outputs": [],
   "source": [
    "test = pd.read_csv('/Users/yuliabezginova/PycharmProjects/00_files-for_NLP/shift_ml_winter_2023/test.csv')"
   ]
  },
  {
   "cell_type": "code",
   "execution_count": 5,
   "id": "5c731d1a",
   "metadata": {},
   "outputs": [
    {
     "data": {
      "text/plain": [
       "(46127, 121)"
      ]
     },
     "execution_count": 5,
     "metadata": {},
     "output_type": "execute_result"
    }
   ],
   "source": [
    "test.shape"
   ]
  },
  {
   "cell_type": "code",
   "execution_count": 6,
   "id": "d61b9b66",
   "metadata": {
    "scrolled": false
   },
   "outputs": [
    {
     "data": {
      "text/plain": [
       "Index(['reco_id_curr', 'contract_type_name', 'gender', 'own_car_flag',\n",
       "       'own_realty_flag', 'children_count', 'income', 'loan_body',\n",
       "       'annuity_payment', 'goods_price',\n",
       "       ...\n",
       "       'document_18_flag', 'document_19_flag', 'document_20_flag',\n",
       "       'document_21_flag', 'requests_bki_hour', 'requests_bki_day',\n",
       "       'requests_bki_week', 'requests_bki_month', 'requests_bki_qrt',\n",
       "       'requests_bki_year'],\n",
       "      dtype='object', length=121)"
      ]
     },
     "execution_count": 6,
     "metadata": {},
     "output_type": "execute_result"
    }
   ],
   "source": [
    "test.keys()"
   ]
  },
  {
   "cell_type": "code",
   "execution_count": 8,
   "id": "a2c4ac9e",
   "metadata": {},
   "outputs": [
    {
     "data": {
      "text/plain": [
       "(46127, 121)"
      ]
     },
     "execution_count": 8,
     "metadata": {},
     "output_type": "execute_result"
    }
   ],
   "source": [
    "test.shape"
   ]
  },
  {
   "cell_type": "markdown",
   "id": "dd49535d",
   "metadata": {},
   "source": [
    "### *Вывод*:  живые данные содержат 121 признак. Уменьшим размерность матрицы признаков по методологии, разработанной в первой части проекта."
   ]
  },
  {
   "cell_type": "code",
   "execution_count": 9,
   "id": "733f5e5a",
   "metadata": {},
   "outputs": [
    {
     "name": "stdout",
     "output_type": "stream",
     "text": [
      "<class 'pandas.core.frame.DataFrame'>\n",
      "RangeIndex: 1670214 entries, 0 to 1670213\n",
      "Data columns (total 38 columns):\n",
      " #   Column                              Non-Null Count    Dtype  \n",
      "---  ------                              --------------    -----  \n",
      " 0   Unnamed: 0                          1670214 non-null  int64  \n",
      " 1   reco_id_last                        1670214 non-null  int64  \n",
      " 2   reco_id_curr                        1670214 non-null  int64  \n",
      " 3   contract_type_name                  1670214 non-null  object \n",
      " 4   annuity_payment                     1297979 non-null  float64\n",
      " 5   loan_body_requested                 1670214 non-null  float64\n",
      " 6   loan_body                           1670213 non-null  float64\n",
      " 7   first_payment                       774370 non-null   float64\n",
      " 8   goods_price                         1284699 non-null  float64\n",
      " 9   start_weekday_appr_process          1670214 non-null  object \n",
      " 10  hour_of_approval_process_start      1670214 non-null  int64  \n",
      " 11  last_application_per_contract_flag  1670214 non-null  object \n",
      " 12  last_day_app_f                      1670214 non-null  int64  \n",
      " 13  down_payment_rate                   774370 non-null   float64\n",
      " 14  interest_primary_rate               5951 non-null     float64\n",
      " 15  interest_privileged_rate            5951 non-null     float64\n",
      " 16  cash_loan_purpose_name              1670214 non-null  object \n",
      " 17  contract_status_name                1670214 non-null  object \n",
      " 18  days_decision                       1670214 non-null  int64  \n",
      " 19  payment_type_name                   1670214 non-null  object \n",
      " 20  reject_reason_code                  1670214 non-null  object \n",
      " 21  type_suite_name                     849809 non-null   object \n",
      " 22  client_type_name                    1670214 non-null  object \n",
      " 23  goods_category_name                 1670214 non-null  object \n",
      " 24  portfolio_name                      1670214 non-null  object \n",
      " 25  product_type_name                   1670214 non-null  object \n",
      " 26  channel_type                        1670214 non-null  object \n",
      " 27  area_seller_place                   1670214 non-null  int64  \n",
      " 28  seller_industry_name                1670214 non-null  object \n",
      " 29  payment_count                       1297984 non-null  float64\n",
      " 30  yield_group_name                    1670214 non-null  object \n",
      " 31  combination_of_product              1669868 non-null  object \n",
      " 32  days_first_drawing                  997149 non-null   float64\n",
      " 33  days_first_due                      997149 non-null   float64\n",
      " 34  first_due_date                      997149 non-null   float64\n",
      " 35  last_due_date                       997149 non-null   float64\n",
      " 36  termination_date                    997149 non-null   float64\n",
      " 37  insured_last_f                      997149 non-null   float64\n",
      "dtypes: float64(15), int64(7), object(16)\n",
      "memory usage: 484.2+ MB\n"
     ]
    }
   ],
   "source": [
    "previous_loan = pd.read_csv('/Users/yuliabezginova/PycharmProjects/00_files-for_NLP/shift_ml_winter_2023/previous_loan.csv')\n",
    "previous_loan.info()"
   ]
  },
  {
   "cell_type": "code",
   "execution_count": 11,
   "id": "81e6b2c3",
   "metadata": {},
   "outputs": [],
   "source": [
    "prev = previous_loan[['down_payment_rate','interest_primary_rate',\n",
    "'interest_privileged_rate', 'cash_loan_purpose_name', 'contract_status_name',\n",
    "'days_decision',\n",
    "'payment_type_name',\n",
    "'reject_reason_code',\n",
    "'type_suite_name',\n",
    "'client_type_name',\n",
    "'goods_category_name',\n",
    "'portfolio_name',\n",
    "'product_type_name',\n",
    "'channel_type',\n",
    "'area_seller_place',\n",
    "'seller_industry_name',\n",
    "'payment_count',\n",
    "'yield_group_name',\n",
    "'combination_of_product',\n",
    "'days_first_drawing',\n",
    "'days_first_due',\n",
    "'first_due_date',\n",
    "'last_due_date',\n",
    "'termination_date',\n",
    "'insured_last_f',\n",
    "                     'reco_id_curr']]"
   ]
  },
  {
   "cell_type": "code",
   "execution_count": 21,
   "id": "325c53c6",
   "metadata": {},
   "outputs": [
    {
     "data": {
      "text/html": [
       "<div>\n",
       "<style scoped>\n",
       "    .dataframe tbody tr th:only-of-type {\n",
       "        vertical-align: middle;\n",
       "    }\n",
       "\n",
       "    .dataframe tbody tr th {\n",
       "        vertical-align: top;\n",
       "    }\n",
       "\n",
       "    .dataframe thead th {\n",
       "        text-align: right;\n",
       "    }\n",
       "</style>\n",
       "<table border=\"1\" class=\"dataframe\">\n",
       "  <thead>\n",
       "    <tr style=\"text-align: right;\">\n",
       "      <th></th>\n",
       "      <th>reco_id_curr</th>\n",
       "      <th>contract_type_name</th>\n",
       "      <th>gender</th>\n",
       "      <th>own_car_flag</th>\n",
       "      <th>own_realty_flag</th>\n",
       "      <th>children_count</th>\n",
       "      <th>income</th>\n",
       "      <th>loan_body</th>\n",
       "      <th>annuity_payment</th>\n",
       "      <th>goods_price</th>\n",
       "      <th>...</th>\n",
       "      <th>seller_industry_name</th>\n",
       "      <th>payment_count</th>\n",
       "      <th>yield_group_name</th>\n",
       "      <th>combination_of_product</th>\n",
       "      <th>days_first_drawing</th>\n",
       "      <th>days_first_due</th>\n",
       "      <th>first_due_date</th>\n",
       "      <th>last_due_date</th>\n",
       "      <th>termination_date</th>\n",
       "      <th>insured_last_f</th>\n",
       "    </tr>\n",
       "  </thead>\n",
       "  <tbody>\n",
       "    <tr>\n",
       "      <th>0</th>\n",
       "      <td>100008</td>\n",
       "      <td>Cash loans</td>\n",
       "      <td>M</td>\n",
       "      <td>N</td>\n",
       "      <td>Y</td>\n",
       "      <td>0</td>\n",
       "      <td>99000.0</td>\n",
       "      <td>490495.5</td>\n",
       "      <td>27517.5</td>\n",
       "      <td>454500.0</td>\n",
       "      <td>...</td>\n",
       "      <td>Consumer electronics</td>\n",
       "      <td>10.0</td>\n",
       "      <td>low_normal</td>\n",
       "      <td>POS household with interest</td>\n",
       "      <td>365243.0</td>\n",
       "      <td>-339.0</td>\n",
       "      <td>-69.0</td>\n",
       "      <td>-69.0</td>\n",
       "      <td>-66.0</td>\n",
       "      <td>0.0</td>\n",
       "    </tr>\n",
       "    <tr>\n",
       "      <th>1</th>\n",
       "      <td>100008</td>\n",
       "      <td>Cash loans</td>\n",
       "      <td>M</td>\n",
       "      <td>N</td>\n",
       "      <td>Y</td>\n",
       "      <td>0</td>\n",
       "      <td>99000.0</td>\n",
       "      <td>490495.5</td>\n",
       "      <td>27517.5</td>\n",
       "      <td>454500.0</td>\n",
       "      <td>...</td>\n",
       "      <td>XNA</td>\n",
       "      <td>NaN</td>\n",
       "      <td>XNA</td>\n",
       "      <td>Cash</td>\n",
       "      <td>NaN</td>\n",
       "      <td>NaN</td>\n",
       "      <td>NaN</td>\n",
       "      <td>NaN</td>\n",
       "      <td>NaN</td>\n",
       "      <td>NaN</td>\n",
       "    </tr>\n",
       "    <tr>\n",
       "      <th>2</th>\n",
       "      <td>100008</td>\n",
       "      <td>Cash loans</td>\n",
       "      <td>M</td>\n",
       "      <td>N</td>\n",
       "      <td>Y</td>\n",
       "      <td>0</td>\n",
       "      <td>99000.0</td>\n",
       "      <td>490495.5</td>\n",
       "      <td>27517.5</td>\n",
       "      <td>454500.0</td>\n",
       "      <td>...</td>\n",
       "      <td>Connectivity</td>\n",
       "      <td>6.0</td>\n",
       "      <td>low_normal</td>\n",
       "      <td>POS mobile with interest</td>\n",
       "      <td>365243.0</td>\n",
       "      <td>-2491.0</td>\n",
       "      <td>-2341.0</td>\n",
       "      <td>-2341.0</td>\n",
       "      <td>-2334.0</td>\n",
       "      <td>0.0</td>\n",
       "    </tr>\n",
       "    <tr>\n",
       "      <th>3</th>\n",
       "      <td>100008</td>\n",
       "      <td>Cash loans</td>\n",
       "      <td>M</td>\n",
       "      <td>N</td>\n",
       "      <td>Y</td>\n",
       "      <td>0</td>\n",
       "      <td>99000.0</td>\n",
       "      <td>490495.5</td>\n",
       "      <td>27517.5</td>\n",
       "      <td>454500.0</td>\n",
       "      <td>...</td>\n",
       "      <td>Consumer electronics</td>\n",
       "      <td>30.0</td>\n",
       "      <td>middle</td>\n",
       "      <td>Cash X-Sell: middle</td>\n",
       "      <td>365243.0</td>\n",
       "      <td>-609.0</td>\n",
       "      <td>261.0</td>\n",
       "      <td>-399.0</td>\n",
       "      <td>-388.0</td>\n",
       "      <td>1.0</td>\n",
       "    </tr>\n",
       "    <tr>\n",
       "      <th>4</th>\n",
       "      <td>100008</td>\n",
       "      <td>Cash loans</td>\n",
       "      <td>M</td>\n",
       "      <td>N</td>\n",
       "      <td>Y</td>\n",
       "      <td>0</td>\n",
       "      <td>99000.0</td>\n",
       "      <td>490495.5</td>\n",
       "      <td>27517.5</td>\n",
       "      <td>454500.0</td>\n",
       "      <td>...</td>\n",
       "      <td>Consumer electronics</td>\n",
       "      <td>10.0</td>\n",
       "      <td>low_normal</td>\n",
       "      <td>POS household with interest</td>\n",
       "      <td>365243.0</td>\n",
       "      <td>-2299.0</td>\n",
       "      <td>-2029.0</td>\n",
       "      <td>-2029.0</td>\n",
       "      <td>-703.0</td>\n",
       "      <td>0.0</td>\n",
       "    </tr>\n",
       "  </tbody>\n",
       "</table>\n",
       "<p>5 rows × 146 columns</p>\n",
       "</div>"
      ],
      "text/plain": [
       "   reco_id_curr contract_type_name gender own_car_flag own_realty_flag  \\\n",
       "0        100008         Cash loans      M            N               Y   \n",
       "1        100008         Cash loans      M            N               Y   \n",
       "2        100008         Cash loans      M            N               Y   \n",
       "3        100008         Cash loans      M            N               Y   \n",
       "4        100008         Cash loans      M            N               Y   \n",
       "\n",
       "   children_count   income  loan_body  annuity_payment  goods_price  ...  \\\n",
       "0               0  99000.0   490495.5          27517.5     454500.0  ...   \n",
       "1               0  99000.0   490495.5          27517.5     454500.0  ...   \n",
       "2               0  99000.0   490495.5          27517.5     454500.0  ...   \n",
       "3               0  99000.0   490495.5          27517.5     454500.0  ...   \n",
       "4               0  99000.0   490495.5          27517.5     454500.0  ...   \n",
       "\n",
       "   seller_industry_name payment_count yield_group_name  \\\n",
       "0  Consumer electronics          10.0       low_normal   \n",
       "1                   XNA           NaN              XNA   \n",
       "2          Connectivity           6.0       low_normal   \n",
       "3  Consumer electronics          30.0           middle   \n",
       "4  Consumer electronics          10.0       low_normal   \n",
       "\n",
       "        combination_of_product days_first_drawing  days_first_due  \\\n",
       "0  POS household with interest           365243.0          -339.0   \n",
       "1                         Cash                NaN             NaN   \n",
       "2     POS mobile with interest           365243.0         -2491.0   \n",
       "3          Cash X-Sell: middle           365243.0          -609.0   \n",
       "4  POS household with interest           365243.0         -2299.0   \n",
       "\n",
       "   first_due_date  last_due_date  termination_date  insured_last_f  \n",
       "0           -69.0          -69.0             -66.0             0.0  \n",
       "1             NaN            NaN               NaN             NaN  \n",
       "2         -2341.0        -2341.0           -2334.0             0.0  \n",
       "3           261.0         -399.0            -388.0             1.0  \n",
       "4         -2029.0        -2029.0            -703.0             0.0  \n",
       "\n",
       "[5 rows x 146 columns]"
      ]
     },
     "execution_count": 21,
     "metadata": {},
     "output_type": "execute_result"
    }
   ],
   "source": [
    "d = test.merge(prev, on='reco_id_curr', how='left')\n",
    "d.head(5)"
   ]
  },
  {
   "cell_type": "markdown",
   "id": "06393c66",
   "metadata": {},
   "source": [
    "# 2 Предобработка данных"
   ]
  },
  {
   "cell_type": "markdown",
   "id": "b190671c",
   "metadata": {},
   "source": [
    "## 2.1 Уменьшение размерности матрицы признаков"
   ]
  },
  {
   "cell_type": "markdown",
   "id": "2ff467de",
   "metadata": {},
   "source": [
    "#### Удалим выбранные признаки и изучим уменьшенный датасет."
   ]
  },
  {
   "cell_type": "code",
   "execution_count": 28,
   "id": "74d744d6",
   "metadata": {},
   "outputs": [],
   "source": [
    "t_new = d[['reco_id_curr', 'contract_type_name', 'gender',\n",
    "       'own_car_flag', 'own_realty_flag', 'children_count', 'income',\n",
    "       'loan_body', 'income_type_name', 'education_type_name',\n",
    "       'family_status_name', 'housing_type_name', 'days_employed',\n",
    "       'mobile_flag', 'employee_phone_flag', 'email_flag',\n",
    "       'type_of_occupation', 'family_members__count',\n",
    "       'rating_client_w_city_region', 'not_live_city_reg_city',\n",
    "       'fondkapremon_mode', 'mode_house_type', 'emergency_state_mode',\n",
    "       'requests_bki_year', 'down_payment_rate', 'contract_status_name',\n",
    "       'reject_reason_code', 'client_type_name', 'channel_type',\n",
    "       'combination_of_product', 'days_first_drawing', 'days_first_due',\n",
    "       'first_due_date', 'last_due_date', 'termination_date', 'insured_last_f',\n",
    "       'days_birth']].copy()"
   ]
  },
  {
   "cell_type": "code",
   "execution_count": 29,
   "id": "252eb1f5",
   "metadata": {},
   "outputs": [
    {
     "data": {
      "text/plain": [
       "(214203, 37)"
      ]
     },
     "execution_count": 29,
     "metadata": {},
     "output_type": "execute_result"
    }
   ],
   "source": [
    "t_new.shape"
   ]
  },
  {
   "cell_type": "markdown",
   "id": "5564f646",
   "metadata": {},
   "source": [
    "### *Вывод:* Получили датасет с 37 признаками, среди которых нет таргета."
   ]
  },
  {
   "cell_type": "markdown",
   "id": "634c57a3",
   "metadata": {},
   "source": [
    "## 2.2 Обработка пропусков в финальном датасете"
   ]
  },
  {
   "cell_type": "code",
   "execution_count": 31,
   "id": "4184af34",
   "metadata": {
    "scrolled": false
   },
   "outputs": [
    {
     "data": {
      "text/html": [
       "<style type=\"text/css\">\n",
       "#T_8a601_row0_col0, #T_8a601_row1_col0, #T_8a601_row2_col0, #T_8a601_row3_col0, #T_8a601_row4_col0, #T_8a601_row5_col0, #T_8a601_row6_col0, #T_8a601_row7_col0, #T_8a601_row8_col0, #T_8a601_row9_col0, #T_8a601_row10_col0, #T_8a601_row11_col0, #T_8a601_row12_col0, #T_8a601_row13_col0, #T_8a601_row14_col0, #T_8a601_row15_col0, #T_8a601_row17_col0, #T_8a601_row18_col0, #T_8a601_row19_col0, #T_8a601_row36_col0 {\n",
       "  background-color: #3b4cc0;\n",
       "  color: #f1f1f1;\n",
       "}\n",
       "#T_8a601_row16_col0 {\n",
       "  background-color: #d5dbe5;\n",
       "  color: #000000;\n",
       "}\n",
       "#T_8a601_row20_col0 {\n",
       "  background-color: #b40426;\n",
       "  color: #f1f1f1;\n",
       "}\n",
       "#T_8a601_row21_col0 {\n",
       "  background-color: #f59f80;\n",
       "  color: #000000;\n",
       "}\n",
       "#T_8a601_row22_col0 {\n",
       "  background-color: #f7b093;\n",
       "  color: #000000;\n",
       "}\n",
       "#T_8a601_row23_col0 {\n",
       "  background-color: #7396f5;\n",
       "  color: #f1f1f1;\n",
       "}\n",
       "#T_8a601_row24_col0 {\n",
       "  background-color: #ee8669;\n",
       "  color: #f1f1f1;\n",
       "}\n",
       "#T_8a601_row25_col0, #T_8a601_row26_col0, #T_8a601_row27_col0, #T_8a601_row28_col0, #T_8a601_row29_col0 {\n",
       "  background-color: #3e51c5;\n",
       "  color: #f1f1f1;\n",
       "}\n",
       "#T_8a601_row30_col0, #T_8a601_row31_col0, #T_8a601_row32_col0, #T_8a601_row33_col0, #T_8a601_row34_col0, #T_8a601_row35_col0 {\n",
       "  background-color: #f0cdbb;\n",
       "  color: #000000;\n",
       "}\n",
       "</style>\n",
       "<table id=\"T_8a601\">\n",
       "  <thead>\n",
       "    <tr>\n",
       "      <th class=\"blank level0\" >&nbsp;</th>\n",
       "      <th id=\"T_8a601_level0_col0\" class=\"col_heading level0 col0\" >0</th>\n",
       "    </tr>\n",
       "  </thead>\n",
       "  <tbody>\n",
       "    <tr>\n",
       "      <th id=\"T_8a601_level0_row0\" class=\"row_heading level0 row0\" >reco_id_curr</th>\n",
       "      <td id=\"T_8a601_row0_col0\" class=\"data row0 col0\" >0.000000</td>\n",
       "    </tr>\n",
       "    <tr>\n",
       "      <th id=\"T_8a601_level0_row1\" class=\"row_heading level0 row1\" >contract_type_name</th>\n",
       "      <td id=\"T_8a601_row1_col0\" class=\"data row1 col0\" >0.000000</td>\n",
       "    </tr>\n",
       "    <tr>\n",
       "      <th id=\"T_8a601_level0_row2\" class=\"row_heading level0 row2\" >gender</th>\n",
       "      <td id=\"T_8a601_row2_col0\" class=\"data row2 col0\" >0.000000</td>\n",
       "    </tr>\n",
       "    <tr>\n",
       "      <th id=\"T_8a601_level0_row3\" class=\"row_heading level0 row3\" >own_car_flag</th>\n",
       "      <td id=\"T_8a601_row3_col0\" class=\"data row3 col0\" >0.000000</td>\n",
       "    </tr>\n",
       "    <tr>\n",
       "      <th id=\"T_8a601_level0_row4\" class=\"row_heading level0 row4\" >own_realty_flag</th>\n",
       "      <td id=\"T_8a601_row4_col0\" class=\"data row4 col0\" >0.000000</td>\n",
       "    </tr>\n",
       "    <tr>\n",
       "      <th id=\"T_8a601_level0_row5\" class=\"row_heading level0 row5\" >children_count</th>\n",
       "      <td id=\"T_8a601_row5_col0\" class=\"data row5 col0\" >0.000000</td>\n",
       "    </tr>\n",
       "    <tr>\n",
       "      <th id=\"T_8a601_level0_row6\" class=\"row_heading level0 row6\" >income</th>\n",
       "      <td id=\"T_8a601_row6_col0\" class=\"data row6 col0\" >0.000000</td>\n",
       "    </tr>\n",
       "    <tr>\n",
       "      <th id=\"T_8a601_level0_row7\" class=\"row_heading level0 row7\" >loan_body</th>\n",
       "      <td id=\"T_8a601_row7_col0\" class=\"data row7 col0\" >0.000000</td>\n",
       "    </tr>\n",
       "    <tr>\n",
       "      <th id=\"T_8a601_level0_row8\" class=\"row_heading level0 row8\" >income_type_name</th>\n",
       "      <td id=\"T_8a601_row8_col0\" class=\"data row8 col0\" >0.000000</td>\n",
       "    </tr>\n",
       "    <tr>\n",
       "      <th id=\"T_8a601_level0_row9\" class=\"row_heading level0 row9\" >education_type_name</th>\n",
       "      <td id=\"T_8a601_row9_col0\" class=\"data row9 col0\" >0.000000</td>\n",
       "    </tr>\n",
       "    <tr>\n",
       "      <th id=\"T_8a601_level0_row10\" class=\"row_heading level0 row10\" >family_status_name</th>\n",
       "      <td id=\"T_8a601_row10_col0\" class=\"data row10 col0\" >0.000000</td>\n",
       "    </tr>\n",
       "    <tr>\n",
       "      <th id=\"T_8a601_level0_row11\" class=\"row_heading level0 row11\" >housing_type_name</th>\n",
       "      <td id=\"T_8a601_row11_col0\" class=\"data row11 col0\" >0.000000</td>\n",
       "    </tr>\n",
       "    <tr>\n",
       "      <th id=\"T_8a601_level0_row12\" class=\"row_heading level0 row12\" >days_employed</th>\n",
       "      <td id=\"T_8a601_row12_col0\" class=\"data row12 col0\" >0.000000</td>\n",
       "    </tr>\n",
       "    <tr>\n",
       "      <th id=\"T_8a601_level0_row13\" class=\"row_heading level0 row13\" >mobile_flag</th>\n",
       "      <td id=\"T_8a601_row13_col0\" class=\"data row13 col0\" >0.000000</td>\n",
       "    </tr>\n",
       "    <tr>\n",
       "      <th id=\"T_8a601_level0_row14\" class=\"row_heading level0 row14\" >employee_phone_flag</th>\n",
       "      <td id=\"T_8a601_row14_col0\" class=\"data row14 col0\" >0.000000</td>\n",
       "    </tr>\n",
       "    <tr>\n",
       "      <th id=\"T_8a601_level0_row15\" class=\"row_heading level0 row15\" >email_flag</th>\n",
       "      <td id=\"T_8a601_row15_col0\" class=\"data row15 col0\" >0.000000</td>\n",
       "    </tr>\n",
       "    <tr>\n",
       "      <th id=\"T_8a601_level0_row16\" class=\"row_heading level0 row16\" >type_of_occupation</th>\n",
       "      <td id=\"T_8a601_row16_col0\" class=\"data row16 col0\" >32.000000</td>\n",
       "    </tr>\n",
       "    <tr>\n",
       "      <th id=\"T_8a601_level0_row17\" class=\"row_heading level0 row17\" >family_members__count</th>\n",
       "      <td id=\"T_8a601_row17_col0\" class=\"data row17 col0\" >0.000000</td>\n",
       "    </tr>\n",
       "    <tr>\n",
       "      <th id=\"T_8a601_level0_row18\" class=\"row_heading level0 row18\" >rating_client_w_city_region</th>\n",
       "      <td id=\"T_8a601_row18_col0\" class=\"data row18 col0\" >0.000000</td>\n",
       "    </tr>\n",
       "    <tr>\n",
       "      <th id=\"T_8a601_level0_row19\" class=\"row_heading level0 row19\" >not_live_city_reg_city</th>\n",
       "      <td id=\"T_8a601_row19_col0\" class=\"data row19 col0\" >0.000000</td>\n",
       "    </tr>\n",
       "    <tr>\n",
       "      <th id=\"T_8a601_level0_row20\" class=\"row_heading level0 row20\" >fondkapremon_mode</th>\n",
       "      <td id=\"T_8a601_row20_col0\" class=\"data row20 col0\" >68.000000</td>\n",
       "    </tr>\n",
       "    <tr>\n",
       "      <th id=\"T_8a601_level0_row21\" class=\"row_heading level0 row21\" >mode_house_type</th>\n",
       "      <td id=\"T_8a601_row21_col0\" class=\"data row21 col0\" >50.000000</td>\n",
       "    </tr>\n",
       "    <tr>\n",
       "      <th id=\"T_8a601_level0_row22\" class=\"row_heading level0 row22\" >emergency_state_mode</th>\n",
       "      <td id=\"T_8a601_row22_col0\" class=\"data row22 col0\" >47.000000</td>\n",
       "    </tr>\n",
       "    <tr>\n",
       "      <th id=\"T_8a601_level0_row23\" class=\"row_heading level0 row23\" >requests_bki_year</th>\n",
       "      <td id=\"T_8a601_row23_col0\" class=\"data row23 col0\" >12.000000</td>\n",
       "    </tr>\n",
       "    <tr>\n",
       "      <th id=\"T_8a601_level0_row24\" class=\"row_heading level0 row24\" >down_payment_rate</th>\n",
       "      <td id=\"T_8a601_row24_col0\" class=\"data row24 col0\" >54.000000</td>\n",
       "    </tr>\n",
       "    <tr>\n",
       "      <th id=\"T_8a601_level0_row25\" class=\"row_heading level0 row25\" >contract_status_name</th>\n",
       "      <td id=\"T_8a601_row25_col0\" class=\"data row25 col0\" >1.000000</td>\n",
       "    </tr>\n",
       "    <tr>\n",
       "      <th id=\"T_8a601_level0_row26\" class=\"row_heading level0 row26\" >reject_reason_code</th>\n",
       "      <td id=\"T_8a601_row26_col0\" class=\"data row26 col0\" >1.000000</td>\n",
       "    </tr>\n",
       "    <tr>\n",
       "      <th id=\"T_8a601_level0_row27\" class=\"row_heading level0 row27\" >client_type_name</th>\n",
       "      <td id=\"T_8a601_row27_col0\" class=\"data row27 col0\" >1.000000</td>\n",
       "    </tr>\n",
       "    <tr>\n",
       "      <th id=\"T_8a601_level0_row28\" class=\"row_heading level0 row28\" >channel_type</th>\n",
       "      <td id=\"T_8a601_row28_col0\" class=\"data row28 col0\" >1.000000</td>\n",
       "    </tr>\n",
       "    <tr>\n",
       "      <th id=\"T_8a601_level0_row29\" class=\"row_heading level0 row29\" >combination_of_product</th>\n",
       "      <td id=\"T_8a601_row29_col0\" class=\"data row29 col0\" >1.000000</td>\n",
       "    </tr>\n",
       "    <tr>\n",
       "      <th id=\"T_8a601_level0_row30\" class=\"row_heading level0 row30\" >days_first_drawing</th>\n",
       "      <td id=\"T_8a601_row30_col0\" class=\"data row30 col0\" >40.000000</td>\n",
       "    </tr>\n",
       "    <tr>\n",
       "      <th id=\"T_8a601_level0_row31\" class=\"row_heading level0 row31\" >days_first_due</th>\n",
       "      <td id=\"T_8a601_row31_col0\" class=\"data row31 col0\" >40.000000</td>\n",
       "    </tr>\n",
       "    <tr>\n",
       "      <th id=\"T_8a601_level0_row32\" class=\"row_heading level0 row32\" >first_due_date</th>\n",
       "      <td id=\"T_8a601_row32_col0\" class=\"data row32 col0\" >40.000000</td>\n",
       "    </tr>\n",
       "    <tr>\n",
       "      <th id=\"T_8a601_level0_row33\" class=\"row_heading level0 row33\" >last_due_date</th>\n",
       "      <td id=\"T_8a601_row33_col0\" class=\"data row33 col0\" >40.000000</td>\n",
       "    </tr>\n",
       "    <tr>\n",
       "      <th id=\"T_8a601_level0_row34\" class=\"row_heading level0 row34\" >termination_date</th>\n",
       "      <td id=\"T_8a601_row34_col0\" class=\"data row34 col0\" >40.000000</td>\n",
       "    </tr>\n",
       "    <tr>\n",
       "      <th id=\"T_8a601_level0_row35\" class=\"row_heading level0 row35\" >insured_last_f</th>\n",
       "      <td id=\"T_8a601_row35_col0\" class=\"data row35 col0\" >40.000000</td>\n",
       "    </tr>\n",
       "    <tr>\n",
       "      <th id=\"T_8a601_level0_row36\" class=\"row_heading level0 row36\" >days_birth</th>\n",
       "      <td id=\"T_8a601_row36_col0\" class=\"data row36 col0\" >0.000000</td>\n",
       "    </tr>\n",
       "  </tbody>\n",
       "</table>\n"
      ],
      "text/plain": [
       "<pandas.io.formats.style.Styler at 0x12a77f970>"
      ]
     },
     "execution_count": 31,
     "metadata": {},
     "output_type": "execute_result"
    }
   ],
   "source": [
    "pd.DataFrame(round(t_new.isna().mean()*100,)).style.background_gradient('coolwarm')"
   ]
  },
  {
   "cell_type": "markdown",
   "id": "7cf486eb",
   "metadata": {},
   "source": [
    "### *Вывод:* Признаки, которые содержат пропуски < 10%, не заполняем, а пропущенные значения - заполняем. Признаки, которые содержат > 10%, анализируем и принимаем решение, как будет заполнять."
   ]
  },
  {
   "cell_type": "code",
   "execution_count": 33,
   "id": "ae34000b",
   "metadata": {},
   "outputs": [],
   "source": [
    "# колонку возраста переведем в годы\n",
    "t_new['age'] = -1 * t_new['days_birth'] / 365\n",
    "t_new = t_new.drop(columns='days_birth')"
   ]
  },
  {
   "cell_type": "code",
   "execution_count": 34,
   "id": "df0012a6",
   "metadata": {},
   "outputs": [
    {
     "data": {
      "text/plain": [
       "0.0"
      ]
     },
     "execution_count": 34,
     "metadata": {},
     "output_type": "execute_result"
    }
   ],
   "source": [
    "# заполнение медианой каждого признака int64, float64\n",
    "t_new['children_count'] = t_new['children_count'].fillna(t_new.groupby(['reco_id_curr'])['children_count'].transform('median'))\n",
    "\n",
    "# проверка\n",
    "t_new['children_count'].isna().sum() / len(t_new)"
   ]
  },
  {
   "cell_type": "code",
   "execution_count": 35,
   "id": "014f16e4",
   "metadata": {},
   "outputs": [
    {
     "data": {
      "text/plain": [
       "0.0"
      ]
     },
     "execution_count": 35,
     "metadata": {},
     "output_type": "execute_result"
    }
   ],
   "source": [
    "# заполнение медианой каждого признака int64, float64\n",
    "t_new['income'] = t_new['income'].fillna(t_new.groupby('reco_id_curr')['income'].transform('median'))\n",
    "\n",
    "# проверка\n",
    "t_new['income'].isna().sum() / len(t_new)"
   ]
  },
  {
   "cell_type": "code",
   "execution_count": 36,
   "id": "7e51180e",
   "metadata": {},
   "outputs": [
    {
     "data": {
      "text/plain": [
       "0.0"
      ]
     },
     "execution_count": 36,
     "metadata": {},
     "output_type": "execute_result"
    }
   ],
   "source": [
    "# заполнение медианой каждого признака int64, float64\n",
    "t_new['loan_body'] = t_new['loan_body'].fillna(t_new.groupby('reco_id_curr')['loan_body'].transform('median'))\n",
    "\n",
    "# проверка\n",
    "t_new['loan_body'].isna().sum() / len(t_new)"
   ]
  },
  {
   "cell_type": "code",
   "execution_count": 37,
   "id": "4616fa09",
   "metadata": {},
   "outputs": [
    {
     "data": {
      "text/plain": [
       "0.0"
      ]
     },
     "execution_count": 37,
     "metadata": {},
     "output_type": "execute_result"
    }
   ],
   "source": [
    "# заполнение медианой каждого признака int64, float64\n",
    "t_new['days_employed'] = t_new['days_employed'].fillna(t_new.groupby('reco_id_curr')['days_employed'].transform('median'))\n",
    "\n",
    "# проверка\n",
    "t_new['days_employed'].isna().sum() / len(t_new)"
   ]
  },
  {
   "cell_type": "code",
   "execution_count": 39,
   "id": "e24d9762",
   "metadata": {},
   "outputs": [
    {
     "data": {
      "text/plain": [
       "0.0"
      ]
     },
     "execution_count": 39,
     "metadata": {},
     "output_type": "execute_result"
    }
   ],
   "source": [
    "# заполнение медианой каждого признака int64, float64\n",
    "t_new['mobile_flag'] = t_new['mobile_flag'].fillna(t_new.groupby('reco_id_curr')['mobile_flag'].transform('median'))\n",
    "\n",
    "# проверка\n",
    "t_new['mobile_flag'].isna().sum() / len(t_new)"
   ]
  },
  {
   "cell_type": "code",
   "execution_count": 41,
   "id": "a56e79cf",
   "metadata": {},
   "outputs": [
    {
     "data": {
      "text/plain": [
       "0.0"
      ]
     },
     "execution_count": 41,
     "metadata": {},
     "output_type": "execute_result"
    }
   ],
   "source": [
    "# заполнение медианой каждого признака int64, float64\n",
    "t_new['email_flag'] = t_new['email_flag'].fillna(t_new.groupby('reco_id_curr')['email_flag'].transform('median'))\n",
    "\n",
    "# проверка\n",
    "t_new['email_flag'].isna().sum() / len(t_new)"
   ]
  },
  {
   "cell_type": "code",
   "execution_count": 43,
   "id": "a054faf3",
   "metadata": {},
   "outputs": [
    {
     "data": {
      "text/plain": [
       "0.0"
      ]
     },
     "execution_count": 43,
     "metadata": {},
     "output_type": "execute_result"
    }
   ],
   "source": [
    "# заполнение медианой каждого признака int64, float64\n",
    "t_new['family_members__count'] = t_new['family_members__count'].fillna(t_new.groupby('reco_id_curr')['family_members__count'].transform('median'))\n",
    "\n",
    "# проверка\n",
    "t_new['family_members__count'].isna().sum() / len(t_new)"
   ]
  },
  {
   "cell_type": "code",
   "execution_count": 45,
   "id": "f3b648af",
   "metadata": {},
   "outputs": [
    {
     "data": {
      "text/plain": [
       "0.0"
      ]
     },
     "execution_count": 45,
     "metadata": {},
     "output_type": "execute_result"
    }
   ],
   "source": [
    "# заполнение медианой каждого признака int64, float64\n",
    "t_new['rating_client_w_city_region'] = t_new['rating_client_w_city_region'].fillna(t_new.groupby('reco_id_curr')['rating_client_w_city_region'].transform('median'))\n",
    "\n",
    "# проверка\n",
    "t_new['rating_client_w_city_region'].isna().sum() / len(t_new)"
   ]
  },
  {
   "cell_type": "code",
   "execution_count": 46,
   "id": "105f35cb",
   "metadata": {},
   "outputs": [
    {
     "data": {
      "text/plain": [
       "0.0"
      ]
     },
     "execution_count": 46,
     "metadata": {},
     "output_type": "execute_result"
    }
   ],
   "source": [
    "# заполнение медианой каждого признака int64, float64\n",
    "t_new['not_live_city_reg_city'] = t_new['not_live_city_reg_city'].fillna(t_new.groupby('reco_id_curr')['not_live_city_reg_city'].transform('median'))\n",
    "\n",
    "# проверка\n",
    "t_new['not_live_city_reg_city'].isna().sum() / len(t_new)"
   ]
  },
  {
   "cell_type": "code",
   "execution_count": 50,
   "id": "88969dd6",
   "metadata": {},
   "outputs": [
    {
     "data": {
      "text/plain": [
       "(214203, 37)"
      ]
     },
     "execution_count": 50,
     "metadata": {},
     "output_type": "execute_result"
    }
   ],
   "source": [
    "t_new.shape"
   ]
  },
  {
   "cell_type": "code",
   "execution_count": 53,
   "id": "c0644913",
   "metadata": {},
   "outputs": [
    {
     "data": {
      "text/plain": [
       "0.11717856425913736"
      ]
     },
     "execution_count": 53,
     "metadata": {},
     "output_type": "execute_result"
    }
   ],
   "source": [
    "# заполнение медианой каждого признака int64, float64\n",
    "t_new['requests_bki_year'] = t_new['requests_bki_year'].fillna(t_new.groupby('reco_id_curr')['requests_bki_year'].transform('median'))\n",
    "\n",
    "# проверка\n",
    "t_new['requests_bki_year'].isna().sum() / len(t_new)"
   ]
  },
  {
   "cell_type": "markdown",
   "id": "0b3893b9",
   "metadata": {},
   "source": [
    "Признак ```'requests_bki_year'``` остается незаполненным на 12%. В рамках данного проекта мы допускаем наличие пропусков, которые можно безопасно удалить - 10%. Если объем пропусков выше 10%, мы удаляем весь признак, если он не является существенным. **Что касается данного признака, то пропуски принято решение удалить, чтобы сохранить 88% объема данных по этому признаку.**"
   ]
  },
  {
   "cell_type": "code",
   "execution_count": 54,
   "id": "aade288f",
   "metadata": {},
   "outputs": [],
   "source": [
    "# удаление пропусков\n",
    "t_new = t_new.dropna(subset=['requests_bki_year'])"
   ]
  },
  {
   "cell_type": "code",
   "execution_count": 55,
   "id": "c048d8ca",
   "metadata": {},
   "outputs": [
    {
     "data": {
      "text/plain": [
       "0.0"
      ]
     },
     "execution_count": 55,
     "metadata": {},
     "output_type": "execute_result"
    }
   ],
   "source": [
    "# проверка\n",
    "t_new['requests_bki_year'].isna().sum() / len(t_new)"
   ]
  },
  {
   "cell_type": "code",
   "execution_count": 56,
   "id": "3d059768",
   "metadata": {},
   "outputs": [
    {
     "data": {
      "text/plain": [
       "0.05895199970386509"
      ]
     },
     "execution_count": 56,
     "metadata": {},
     "output_type": "execute_result"
    }
   ],
   "source": [
    "# заполнение медианой каждого признака int64, float64\n",
    "t_new['down_payment_rate'] = t_new['down_payment_rate'].fillna(t_new.groupby('reco_id_curr')['down_payment_rate'].transform('median'))\n",
    "\n",
    "# проверка\n",
    "t_new['down_payment_rate'].isna().sum() / len(t_new)"
   ]
  },
  {
   "cell_type": "markdown",
   "id": "b689189f",
   "metadata": {},
   "source": [
    "Признак ```'down_payment_rate'``` остается незаполненным на 5%. В рамках данного проекта мы допускаем наличие пропусков, которые можно безопасно удалить - 10%. Если объем пропусков выше 10%, мы удаляем весь признак, если он не является существенным. **Что касается данного признака, то пропуски принято решение удалить, чтобы сохранить 95% объема данных по этому признаку.**"
   ]
  },
  {
   "cell_type": "code",
   "execution_count": 57,
   "id": "d25485c2",
   "metadata": {},
   "outputs": [],
   "source": [
    "# удаление пропусков\n",
    "t_new = t_new.dropna(subset=['down_payment_rate'])"
   ]
  },
  {
   "cell_type": "code",
   "execution_count": 58,
   "id": "9d5b6bf6",
   "metadata": {},
   "outputs": [
    {
     "data": {
      "text/plain": [
       "0.0"
      ]
     },
     "execution_count": 58,
     "metadata": {},
     "output_type": "execute_result"
    }
   ],
   "source": [
    "# проверка\n",
    "t_new['down_payment_rate'].isna().sum() / len(t_new)"
   ]
  },
  {
   "cell_type": "code",
   "execution_count": 59,
   "id": "f5f0f0b8",
   "metadata": {},
   "outputs": [
    {
     "data": {
      "text/plain": [
       "0.0013655137534770026"
      ]
     },
     "execution_count": 59,
     "metadata": {},
     "output_type": "execute_result"
    }
   ],
   "source": [
    "# заполнение медианой каждого признака int64, float64\n",
    "t_new['days_first_drawing'] = t_new['days_first_drawing'].fillna(t_new.groupby('reco_id_curr')['days_first_drawing'].transform('median'))\n",
    "\n",
    "# проверка\n",
    "t_new['days_first_drawing'].isna().sum() / len(t_new)"
   ]
  },
  {
   "cell_type": "markdown",
   "id": "fd13358c",
   "metadata": {},
   "source": [
    "Число пропусков незначительно, можно безопасно удалить."
   ]
  },
  {
   "cell_type": "code",
   "execution_count": 60,
   "id": "331492f6",
   "metadata": {},
   "outputs": [],
   "source": [
    "# удаление пропусков\n",
    "t_new = t_new.dropna(subset=['days_first_drawing'])"
   ]
  },
  {
   "cell_type": "code",
   "execution_count": 61,
   "id": "6ee4551f",
   "metadata": {},
   "outputs": [
    {
     "data": {
      "text/plain": [
       "0.0"
      ]
     },
     "execution_count": 61,
     "metadata": {},
     "output_type": "execute_result"
    }
   ],
   "source": [
    "# проверка\n",
    "t_new['days_first_drawing'].isna().sum() / len(t_new)"
   ]
  },
  {
   "cell_type": "code",
   "execution_count": 62,
   "id": "146d7336",
   "metadata": {},
   "outputs": [
    {
     "data": {
      "text/plain": [
       "0.0"
      ]
     },
     "execution_count": 62,
     "metadata": {},
     "output_type": "execute_result"
    }
   ],
   "source": [
    "# заполнение медианой каждого признака int64, float64\n",
    "t_new['days_first_due'] = t_new['days_first_due'].fillna(t_new.groupby('reco_id_curr')['days_first_due'].transform('median'))\n",
    "\n",
    "# проверка\n",
    "t_new['days_first_due'].isna().sum() / len(t_new)"
   ]
  },
  {
   "cell_type": "code",
   "execution_count": 63,
   "id": "82d56590",
   "metadata": {},
   "outputs": [
    {
     "data": {
      "text/plain": [
       "0.0"
      ]
     },
     "execution_count": 63,
     "metadata": {},
     "output_type": "execute_result"
    }
   ],
   "source": [
    "# заполнение медианой каждого признака int64, float64\n",
    "t_new['first_due_date'] = t_new['first_due_date'].fillna(t_new.groupby('reco_id_curr')['first_due_date'].transform('median'))\n",
    "\n",
    "# проверка\n",
    "t_new['first_due_date'].isna().sum() / len(t_new)"
   ]
  },
  {
   "cell_type": "code",
   "execution_count": 64,
   "id": "acb878f6",
   "metadata": {},
   "outputs": [
    {
     "data": {
      "text/plain": [
       "0.0"
      ]
     },
     "execution_count": 64,
     "metadata": {},
     "output_type": "execute_result"
    }
   ],
   "source": [
    "# заполнение медианой каждого признака int64, float64\n",
    "t_new['last_due_date'] = t_new['last_due_date'].fillna(t_new.groupby('reco_id_curr')['last_due_date'].transform('median'))\n",
    "\n",
    "# проверка\n",
    "t_new['last_due_date'].isna().sum() / len(t_new)"
   ]
  },
  {
   "cell_type": "code",
   "execution_count": 65,
   "id": "68c00df2",
   "metadata": {},
   "outputs": [
    {
     "data": {
      "text/plain": [
       "0.0"
      ]
     },
     "execution_count": 65,
     "metadata": {},
     "output_type": "execute_result"
    }
   ],
   "source": [
    "# заполнение медианой каждого признака int64, float64\n",
    "t_new['termination_date'] = t_new['termination_date'].fillna(t_new.groupby('reco_id_curr')['termination_date'].transform('median'))\n",
    "\n",
    "# проверка\n",
    "t_new['termination_date'].isna().sum() / len(t_new)"
   ]
  },
  {
   "cell_type": "code",
   "execution_count": 66,
   "id": "46fd30dc",
   "metadata": {},
   "outputs": [
    {
     "data": {
      "text/plain": [
       "0.0"
      ]
     },
     "execution_count": 66,
     "metadata": {},
     "output_type": "execute_result"
    }
   ],
   "source": [
    "# заполнение медианой каждого признака int64, float64\n",
    "t_new['insured_last_f'] = t_new['insured_last_f'].fillna(t_new.groupby('reco_id_curr')['insured_last_f'].transform('median'))\n",
    "\n",
    "# проверка\n",
    "t_new['insured_last_f'].isna().sum() / len(t_new)"
   ]
  },
  {
   "cell_type": "code",
   "execution_count": 67,
   "id": "bb14142a",
   "metadata": {},
   "outputs": [
    {
     "data": {
      "text/plain": [
       "0.0"
      ]
     },
     "execution_count": 67,
     "metadata": {},
     "output_type": "execute_result"
    }
   ],
   "source": [
    "# заполнение медианой каждого признака int64, float64\n",
    "t_new['age'] = t_new['age'].fillna(t_new.groupby('reco_id_curr')['age'].transform('median'))\n",
    "\n",
    "# проверка\n",
    "t_new['age'].isna().sum() / len(t_new)"
   ]
  },
  {
   "cell_type": "code",
   "execution_count": 68,
   "id": "41b637b8",
   "metadata": {},
   "outputs": [
    {
     "data": {
      "text/html": [
       "<style type=\"text/css\">\n",
       "#T_b1d4a_row0_col0, #T_b1d4a_row1_col0, #T_b1d4a_row2_col0, #T_b1d4a_row3_col0, #T_b1d4a_row4_col0, #T_b1d4a_row5_col0, #T_b1d4a_row6_col0, #T_b1d4a_row7_col0, #T_b1d4a_row8_col0, #T_b1d4a_row9_col0, #T_b1d4a_row10_col0, #T_b1d4a_row11_col0, #T_b1d4a_row12_col0, #T_b1d4a_row13_col0, #T_b1d4a_row14_col0, #T_b1d4a_row15_col0, #T_b1d4a_row17_col0, #T_b1d4a_row18_col0, #T_b1d4a_row19_col0, #T_b1d4a_row23_col0, #T_b1d4a_row24_col0, #T_b1d4a_row25_col0, #T_b1d4a_row26_col0, #T_b1d4a_row27_col0, #T_b1d4a_row28_col0, #T_b1d4a_row29_col0, #T_b1d4a_row30_col0, #T_b1d4a_row31_col0, #T_b1d4a_row32_col0, #T_b1d4a_row33_col0, #T_b1d4a_row34_col0, #T_b1d4a_row35_col0, #T_b1d4a_row36_col0 {\n",
       "  background-color: #3b4cc0;\n",
       "  color: #f1f1f1;\n",
       "}\n",
       "#T_b1d4a_row16_col0 {\n",
       "  background-color: #d5dbe5;\n",
       "  color: #000000;\n",
       "}\n",
       "#T_b1d4a_row20_col0 {\n",
       "  background-color: #b40426;\n",
       "  color: #f1f1f1;\n",
       "}\n",
       "#T_b1d4a_row21_col0 {\n",
       "  background-color: #f59f80;\n",
       "  color: #000000;\n",
       "}\n",
       "#T_b1d4a_row22_col0 {\n",
       "  background-color: #f7b093;\n",
       "  color: #000000;\n",
       "}\n",
       "</style>\n",
       "<table id=\"T_b1d4a\">\n",
       "  <thead>\n",
       "    <tr>\n",
       "      <th class=\"blank level0\" >&nbsp;</th>\n",
       "      <th id=\"T_b1d4a_level0_col0\" class=\"col_heading level0 col0\" >0</th>\n",
       "    </tr>\n",
       "  </thead>\n",
       "  <tbody>\n",
       "    <tr>\n",
       "      <th id=\"T_b1d4a_level0_row0\" class=\"row_heading level0 row0\" >reco_id_curr</th>\n",
       "      <td id=\"T_b1d4a_row0_col0\" class=\"data row0 col0\" >0.000000</td>\n",
       "    </tr>\n",
       "    <tr>\n",
       "      <th id=\"T_b1d4a_level0_row1\" class=\"row_heading level0 row1\" >contract_type_name</th>\n",
       "      <td id=\"T_b1d4a_row1_col0\" class=\"data row1 col0\" >0.000000</td>\n",
       "    </tr>\n",
       "    <tr>\n",
       "      <th id=\"T_b1d4a_level0_row2\" class=\"row_heading level0 row2\" >gender</th>\n",
       "      <td id=\"T_b1d4a_row2_col0\" class=\"data row2 col0\" >0.000000</td>\n",
       "    </tr>\n",
       "    <tr>\n",
       "      <th id=\"T_b1d4a_level0_row3\" class=\"row_heading level0 row3\" >own_car_flag</th>\n",
       "      <td id=\"T_b1d4a_row3_col0\" class=\"data row3 col0\" >0.000000</td>\n",
       "    </tr>\n",
       "    <tr>\n",
       "      <th id=\"T_b1d4a_level0_row4\" class=\"row_heading level0 row4\" >own_realty_flag</th>\n",
       "      <td id=\"T_b1d4a_row4_col0\" class=\"data row4 col0\" >0.000000</td>\n",
       "    </tr>\n",
       "    <tr>\n",
       "      <th id=\"T_b1d4a_level0_row5\" class=\"row_heading level0 row5\" >children_count</th>\n",
       "      <td id=\"T_b1d4a_row5_col0\" class=\"data row5 col0\" >0.000000</td>\n",
       "    </tr>\n",
       "    <tr>\n",
       "      <th id=\"T_b1d4a_level0_row6\" class=\"row_heading level0 row6\" >income</th>\n",
       "      <td id=\"T_b1d4a_row6_col0\" class=\"data row6 col0\" >0.000000</td>\n",
       "    </tr>\n",
       "    <tr>\n",
       "      <th id=\"T_b1d4a_level0_row7\" class=\"row_heading level0 row7\" >loan_body</th>\n",
       "      <td id=\"T_b1d4a_row7_col0\" class=\"data row7 col0\" >0.000000</td>\n",
       "    </tr>\n",
       "    <tr>\n",
       "      <th id=\"T_b1d4a_level0_row8\" class=\"row_heading level0 row8\" >income_type_name</th>\n",
       "      <td id=\"T_b1d4a_row8_col0\" class=\"data row8 col0\" >0.000000</td>\n",
       "    </tr>\n",
       "    <tr>\n",
       "      <th id=\"T_b1d4a_level0_row9\" class=\"row_heading level0 row9\" >education_type_name</th>\n",
       "      <td id=\"T_b1d4a_row9_col0\" class=\"data row9 col0\" >0.000000</td>\n",
       "    </tr>\n",
       "    <tr>\n",
       "      <th id=\"T_b1d4a_level0_row10\" class=\"row_heading level0 row10\" >family_status_name</th>\n",
       "      <td id=\"T_b1d4a_row10_col0\" class=\"data row10 col0\" >0.000000</td>\n",
       "    </tr>\n",
       "    <tr>\n",
       "      <th id=\"T_b1d4a_level0_row11\" class=\"row_heading level0 row11\" >housing_type_name</th>\n",
       "      <td id=\"T_b1d4a_row11_col0\" class=\"data row11 col0\" >0.000000</td>\n",
       "    </tr>\n",
       "    <tr>\n",
       "      <th id=\"T_b1d4a_level0_row12\" class=\"row_heading level0 row12\" >days_employed</th>\n",
       "      <td id=\"T_b1d4a_row12_col0\" class=\"data row12 col0\" >0.000000</td>\n",
       "    </tr>\n",
       "    <tr>\n",
       "      <th id=\"T_b1d4a_level0_row13\" class=\"row_heading level0 row13\" >mobile_flag</th>\n",
       "      <td id=\"T_b1d4a_row13_col0\" class=\"data row13 col0\" >0.000000</td>\n",
       "    </tr>\n",
       "    <tr>\n",
       "      <th id=\"T_b1d4a_level0_row14\" class=\"row_heading level0 row14\" >employee_phone_flag</th>\n",
       "      <td id=\"T_b1d4a_row14_col0\" class=\"data row14 col0\" >0.000000</td>\n",
       "    </tr>\n",
       "    <tr>\n",
       "      <th id=\"T_b1d4a_level0_row15\" class=\"row_heading level0 row15\" >email_flag</th>\n",
       "      <td id=\"T_b1d4a_row15_col0\" class=\"data row15 col0\" >0.000000</td>\n",
       "    </tr>\n",
       "    <tr>\n",
       "      <th id=\"T_b1d4a_level0_row16\" class=\"row_heading level0 row16\" >type_of_occupation</th>\n",
       "      <td id=\"T_b1d4a_row16_col0\" class=\"data row16 col0\" >32.000000</td>\n",
       "    </tr>\n",
       "    <tr>\n",
       "      <th id=\"T_b1d4a_level0_row17\" class=\"row_heading level0 row17\" >family_members__count</th>\n",
       "      <td id=\"T_b1d4a_row17_col0\" class=\"data row17 col0\" >0.000000</td>\n",
       "    </tr>\n",
       "    <tr>\n",
       "      <th id=\"T_b1d4a_level0_row18\" class=\"row_heading level0 row18\" >rating_client_w_city_region</th>\n",
       "      <td id=\"T_b1d4a_row18_col0\" class=\"data row18 col0\" >0.000000</td>\n",
       "    </tr>\n",
       "    <tr>\n",
       "      <th id=\"T_b1d4a_level0_row19\" class=\"row_heading level0 row19\" >not_live_city_reg_city</th>\n",
       "      <td id=\"T_b1d4a_row19_col0\" class=\"data row19 col0\" >0.000000</td>\n",
       "    </tr>\n",
       "    <tr>\n",
       "      <th id=\"T_b1d4a_level0_row20\" class=\"row_heading level0 row20\" >fondkapremon_mode</th>\n",
       "      <td id=\"T_b1d4a_row20_col0\" class=\"data row20 col0\" >68.000000</td>\n",
       "    </tr>\n",
       "    <tr>\n",
       "      <th id=\"T_b1d4a_level0_row21\" class=\"row_heading level0 row21\" >mode_house_type</th>\n",
       "      <td id=\"T_b1d4a_row21_col0\" class=\"data row21 col0\" >50.000000</td>\n",
       "    </tr>\n",
       "    <tr>\n",
       "      <th id=\"T_b1d4a_level0_row22\" class=\"row_heading level0 row22\" >emergency_state_mode</th>\n",
       "      <td id=\"T_b1d4a_row22_col0\" class=\"data row22 col0\" >47.000000</td>\n",
       "    </tr>\n",
       "    <tr>\n",
       "      <th id=\"T_b1d4a_level0_row23\" class=\"row_heading level0 row23\" >requests_bki_year</th>\n",
       "      <td id=\"T_b1d4a_row23_col0\" class=\"data row23 col0\" >0.000000</td>\n",
       "    </tr>\n",
       "    <tr>\n",
       "      <th id=\"T_b1d4a_level0_row24\" class=\"row_heading level0 row24\" >down_payment_rate</th>\n",
       "      <td id=\"T_b1d4a_row24_col0\" class=\"data row24 col0\" >0.000000</td>\n",
       "    </tr>\n",
       "    <tr>\n",
       "      <th id=\"T_b1d4a_level0_row25\" class=\"row_heading level0 row25\" >contract_status_name</th>\n",
       "      <td id=\"T_b1d4a_row25_col0\" class=\"data row25 col0\" >0.000000</td>\n",
       "    </tr>\n",
       "    <tr>\n",
       "      <th id=\"T_b1d4a_level0_row26\" class=\"row_heading level0 row26\" >reject_reason_code</th>\n",
       "      <td id=\"T_b1d4a_row26_col0\" class=\"data row26 col0\" >0.000000</td>\n",
       "    </tr>\n",
       "    <tr>\n",
       "      <th id=\"T_b1d4a_level0_row27\" class=\"row_heading level0 row27\" >client_type_name</th>\n",
       "      <td id=\"T_b1d4a_row27_col0\" class=\"data row27 col0\" >0.000000</td>\n",
       "    </tr>\n",
       "    <tr>\n",
       "      <th id=\"T_b1d4a_level0_row28\" class=\"row_heading level0 row28\" >channel_type</th>\n",
       "      <td id=\"T_b1d4a_row28_col0\" class=\"data row28 col0\" >0.000000</td>\n",
       "    </tr>\n",
       "    <tr>\n",
       "      <th id=\"T_b1d4a_level0_row29\" class=\"row_heading level0 row29\" >combination_of_product</th>\n",
       "      <td id=\"T_b1d4a_row29_col0\" class=\"data row29 col0\" >0.000000</td>\n",
       "    </tr>\n",
       "    <tr>\n",
       "      <th id=\"T_b1d4a_level0_row30\" class=\"row_heading level0 row30\" >days_first_drawing</th>\n",
       "      <td id=\"T_b1d4a_row30_col0\" class=\"data row30 col0\" >0.000000</td>\n",
       "    </tr>\n",
       "    <tr>\n",
       "      <th id=\"T_b1d4a_level0_row31\" class=\"row_heading level0 row31\" >days_first_due</th>\n",
       "      <td id=\"T_b1d4a_row31_col0\" class=\"data row31 col0\" >0.000000</td>\n",
       "    </tr>\n",
       "    <tr>\n",
       "      <th id=\"T_b1d4a_level0_row32\" class=\"row_heading level0 row32\" >first_due_date</th>\n",
       "      <td id=\"T_b1d4a_row32_col0\" class=\"data row32 col0\" >0.000000</td>\n",
       "    </tr>\n",
       "    <tr>\n",
       "      <th id=\"T_b1d4a_level0_row33\" class=\"row_heading level0 row33\" >last_due_date</th>\n",
       "      <td id=\"T_b1d4a_row33_col0\" class=\"data row33 col0\" >0.000000</td>\n",
       "    </tr>\n",
       "    <tr>\n",
       "      <th id=\"T_b1d4a_level0_row34\" class=\"row_heading level0 row34\" >termination_date</th>\n",
       "      <td id=\"T_b1d4a_row34_col0\" class=\"data row34 col0\" >0.000000</td>\n",
       "    </tr>\n",
       "    <tr>\n",
       "      <th id=\"T_b1d4a_level0_row35\" class=\"row_heading level0 row35\" >insured_last_f</th>\n",
       "      <td id=\"T_b1d4a_row35_col0\" class=\"data row35 col0\" >0.000000</td>\n",
       "    </tr>\n",
       "    <tr>\n",
       "      <th id=\"T_b1d4a_level0_row36\" class=\"row_heading level0 row36\" >age</th>\n",
       "      <td id=\"T_b1d4a_row36_col0\" class=\"data row36 col0\" >0.000000</td>\n",
       "    </tr>\n",
       "  </tbody>\n",
       "</table>\n"
      ],
      "text/plain": [
       "<pandas.io.formats.style.Styler at 0x12d8b0e50>"
      ]
     },
     "execution_count": 68,
     "metadata": {},
     "output_type": "execute_result"
    }
   ],
   "source": [
    "pd.DataFrame(round(t_new.isna().mean()*100,)).style.background_gradient('coolwarm')"
   ]
  },
  {
   "cell_type": "markdown",
   "id": "ec1c77b1",
   "metadata": {},
   "source": [
    "### После заполнения медианой остались несколько признаков, которые не заполнены. Изучим каждый из них отдельно:\n",
    "\n",
    "```\n",
    "'type_of_occupation', \n",
    "'fondkapremon_mode',\n",
    "'mode_house_type', \n",
    "'emergency_state_mode'\n",
    "```"
   ]
  },
  {
   "cell_type": "markdown",
   "id": "2a754227",
   "metadata": {},
   "source": [
    "### *Изучим характер пропусков, которые остались незаполненными медианой. Возможно, это категории, которые можно заполнить исходя из здравого смысла или допущений в рамках проекта.*"
   ]
  },
  {
   "cell_type": "markdown",
   "id": "4f426c7c",
   "metadata": {},
   "source": [
    "- `'type_of_occupation'`"
   ]
  },
  {
   "cell_type": "code",
   "execution_count": 69,
   "id": "d69f784e",
   "metadata": {
    "scrolled": false
   },
   "outputs": [
    {
     "data": {
      "text/plain": [
       "array(['Laborers', 'Drivers', 'Core staff', 'Private service staff', nan,\n",
       "       'Medicine staff', 'Managers', 'Sales staff', 'Accountants',\n",
       "       'Secretaries', 'Security staff', 'High skill tech staff',\n",
       "       'IT staff', 'Cooking staff', 'Waiters/barmen staff',\n",
       "       'Low-skill Laborers', 'Cleaning staff', 'Realty agents',\n",
       "       'HR staff'], dtype=object)"
      ]
     },
     "execution_count": 69,
     "metadata": {},
     "output_type": "execute_result"
    }
   ],
   "source": [
    "t_new['type_of_occupation'].unique() # пропусков нет, но надо эти категориии закодировать"
   ]
  },
  {
   "cell_type": "code",
   "execution_count": 70,
   "id": "4722fe76",
   "metadata": {
    "scrolled": true
   },
   "outputs": [
    {
     "data": {
      "text/plain": [
       "0.32061987935536146"
      ]
     },
     "execution_count": 70,
     "metadata": {},
     "output_type": "execute_result"
    }
   ],
   "source": [
    "t_new['type_of_occupation'].isnull().sum() / len(t_new) # пропусков 47%"
   ]
  },
  {
   "cell_type": "markdown",
   "id": "b0a97ef3",
   "metadata": {},
   "source": [
    "Пропусков в признаке ```'type_of_occupation'``` 32%, пока непонятно, что с этим делать."
   ]
  },
  {
   "cell_type": "markdown",
   "id": "77322249",
   "metadata": {},
   "source": [
    "- `'fondkapremon_mode'`"
   ]
  },
  {
   "cell_type": "code",
   "execution_count": 71,
   "id": "fa8d96ae",
   "metadata": {},
   "outputs": [
    {
     "data": {
      "text/plain": [
       "array([nan, 'reg oper account', 'reg oper spec account',\n",
       "       'org spec account', 'not specified'], dtype=object)"
      ]
     },
     "execution_count": 71,
     "metadata": {},
     "output_type": "execute_result"
    }
   ],
   "source": [
    "t_new['fondkapremon_mode'].unique() # заполнить пропуски категориального значения как 'not specified'"
   ]
  },
  {
   "cell_type": "code",
   "execution_count": 72,
   "id": "0f06f533",
   "metadata": {},
   "outputs": [],
   "source": [
    "t_new['fondkapremon_mode'] = t_new['fondkapremon_mode'].fillna('not specified')"
   ]
  },
  {
   "cell_type": "code",
   "execution_count": 73,
   "id": "bf7f3f5d",
   "metadata": {},
   "outputs": [
    {
     "data": {
      "text/plain": [
       "0"
      ]
     },
     "execution_count": 73,
     "metadata": {},
     "output_type": "execute_result"
    }
   ],
   "source": [
    "t_new['fondkapremon_mode'].isnull().sum()"
   ]
  },
  {
   "cell_type": "markdown",
   "id": "f1553a3f",
   "metadata": {},
   "source": [
    "- `mode_house_type`"
   ]
  },
  {
   "cell_type": "code",
   "execution_count": 74,
   "id": "8b7fccc2",
   "metadata": {},
   "outputs": [
    {
     "data": {
      "text/plain": [
       "array([nan, 'block of flats', 'terraced house', 'specific housing'],\n",
       "      dtype=object)"
      ]
     },
     "execution_count": 74,
     "metadata": {},
     "output_type": "execute_result"
    }
   ],
   "source": [
    "t_new['mode_house_type'].unique() # природа пропусков неясна, нет идей для заполнения пропуско"
   ]
  },
  {
   "cell_type": "code",
   "execution_count": 76,
   "id": "bf8c6f1c",
   "metadata": {},
   "outputs": [
    {
     "data": {
      "text/plain": [
       "0.4954026739893761"
      ]
     },
     "execution_count": 76,
     "metadata": {},
     "output_type": "execute_result"
    }
   ],
   "source": [
    "t_new['mode_house_type'].isnull().sum() / len(t_new) "
   ]
  },
  {
   "cell_type": "markdown",
   "id": "20ad661d",
   "metadata": {},
   "source": [
    "Пропусков в признаке ```'mode_house_type'``` 50%, пока непонятно, что с этим делать."
   ]
  },
  {
   "cell_type": "markdown",
   "id": "a8be5b09",
   "metadata": {},
   "source": [
    "- `emergency_state_mode`"
   ]
  },
  {
   "cell_type": "code",
   "execution_count": 77,
   "id": "be2ae0b5",
   "metadata": {},
   "outputs": [
    {
     "data": {
      "text/plain": [
       "array([nan, 'No', 'Yes'], dtype=object)"
      ]
     },
     "execution_count": 77,
     "metadata": {},
     "output_type": "execute_result"
    }
   ],
   "source": [
    "t_new['emergency_state_mode'].unique() # пропусков 50%"
   ]
  },
  {
   "cell_type": "code",
   "execution_count": 79,
   "id": "9d0af5d0",
   "metadata": {
    "scrolled": true
   },
   "outputs": [
    {
     "data": {
      "text/plain": [
       "0.46819573242099577"
      ]
     },
     "execution_count": 79,
     "metadata": {},
     "output_type": "execute_result"
    }
   ],
   "source": [
    "t_new['emergency_state_mode'].isnull().sum() / len(t_new) # пропусков 47%"
   ]
  },
  {
   "cell_type": "markdown",
   "id": "f8cbf76b",
   "metadata": {},
   "source": [
    "Пропусков в признаке ```'emergency_state_mode'``` 47%, пока непонятно, что с этим делать."
   ]
  },
  {
   "cell_type": "code",
   "execution_count": 80,
   "id": "4c0993ef",
   "metadata": {},
   "outputs": [
    {
     "data": {
      "text/html": [
       "<style type=\"text/css\">\n",
       "#T_3c034_row0_col0, #T_3c034_row1_col0, #T_3c034_row2_col0, #T_3c034_row3_col0, #T_3c034_row4_col0, #T_3c034_row5_col0, #T_3c034_row6_col0, #T_3c034_row7_col0, #T_3c034_row8_col0, #T_3c034_row9_col0, #T_3c034_row10_col0, #T_3c034_row11_col0, #T_3c034_row12_col0, #T_3c034_row13_col0, #T_3c034_row14_col0, #T_3c034_row15_col0, #T_3c034_row17_col0, #T_3c034_row18_col0, #T_3c034_row19_col0, #T_3c034_row20_col0, #T_3c034_row23_col0, #T_3c034_row24_col0, #T_3c034_row25_col0, #T_3c034_row26_col0, #T_3c034_row27_col0, #T_3c034_row28_col0, #T_3c034_row29_col0, #T_3c034_row30_col0, #T_3c034_row31_col0, #T_3c034_row32_col0, #T_3c034_row33_col0, #T_3c034_row34_col0, #T_3c034_row35_col0, #T_3c034_row36_col0 {\n",
       "  background-color: #3b4cc0;\n",
       "  color: #f1f1f1;\n",
       "}\n",
       "#T_3c034_row16_col0 {\n",
       "  background-color: #f5c0a7;\n",
       "  color: #000000;\n",
       "}\n",
       "#T_3c034_row21_col0 {\n",
       "  background-color: #b40426;\n",
       "  color: #f1f1f1;\n",
       "}\n",
       "#T_3c034_row22_col0 {\n",
       "  background-color: #ca3b37;\n",
       "  color: #f1f1f1;\n",
       "}\n",
       "</style>\n",
       "<table id=\"T_3c034\">\n",
       "  <thead>\n",
       "    <tr>\n",
       "      <th class=\"blank level0\" >&nbsp;</th>\n",
       "      <th id=\"T_3c034_level0_col0\" class=\"col_heading level0 col0\" >0</th>\n",
       "    </tr>\n",
       "  </thead>\n",
       "  <tbody>\n",
       "    <tr>\n",
       "      <th id=\"T_3c034_level0_row0\" class=\"row_heading level0 row0\" >reco_id_curr</th>\n",
       "      <td id=\"T_3c034_row0_col0\" class=\"data row0 col0\" >0.000000</td>\n",
       "    </tr>\n",
       "    <tr>\n",
       "      <th id=\"T_3c034_level0_row1\" class=\"row_heading level0 row1\" >contract_type_name</th>\n",
       "      <td id=\"T_3c034_row1_col0\" class=\"data row1 col0\" >0.000000</td>\n",
       "    </tr>\n",
       "    <tr>\n",
       "      <th id=\"T_3c034_level0_row2\" class=\"row_heading level0 row2\" >gender</th>\n",
       "      <td id=\"T_3c034_row2_col0\" class=\"data row2 col0\" >0.000000</td>\n",
       "    </tr>\n",
       "    <tr>\n",
       "      <th id=\"T_3c034_level0_row3\" class=\"row_heading level0 row3\" >own_car_flag</th>\n",
       "      <td id=\"T_3c034_row3_col0\" class=\"data row3 col0\" >0.000000</td>\n",
       "    </tr>\n",
       "    <tr>\n",
       "      <th id=\"T_3c034_level0_row4\" class=\"row_heading level0 row4\" >own_realty_flag</th>\n",
       "      <td id=\"T_3c034_row4_col0\" class=\"data row4 col0\" >0.000000</td>\n",
       "    </tr>\n",
       "    <tr>\n",
       "      <th id=\"T_3c034_level0_row5\" class=\"row_heading level0 row5\" >children_count</th>\n",
       "      <td id=\"T_3c034_row5_col0\" class=\"data row5 col0\" >0.000000</td>\n",
       "    </tr>\n",
       "    <tr>\n",
       "      <th id=\"T_3c034_level0_row6\" class=\"row_heading level0 row6\" >income</th>\n",
       "      <td id=\"T_3c034_row6_col0\" class=\"data row6 col0\" >0.000000</td>\n",
       "    </tr>\n",
       "    <tr>\n",
       "      <th id=\"T_3c034_level0_row7\" class=\"row_heading level0 row7\" >loan_body</th>\n",
       "      <td id=\"T_3c034_row7_col0\" class=\"data row7 col0\" >0.000000</td>\n",
       "    </tr>\n",
       "    <tr>\n",
       "      <th id=\"T_3c034_level0_row8\" class=\"row_heading level0 row8\" >income_type_name</th>\n",
       "      <td id=\"T_3c034_row8_col0\" class=\"data row8 col0\" >0.000000</td>\n",
       "    </tr>\n",
       "    <tr>\n",
       "      <th id=\"T_3c034_level0_row9\" class=\"row_heading level0 row9\" >education_type_name</th>\n",
       "      <td id=\"T_3c034_row9_col0\" class=\"data row9 col0\" >0.000000</td>\n",
       "    </tr>\n",
       "    <tr>\n",
       "      <th id=\"T_3c034_level0_row10\" class=\"row_heading level0 row10\" >family_status_name</th>\n",
       "      <td id=\"T_3c034_row10_col0\" class=\"data row10 col0\" >0.000000</td>\n",
       "    </tr>\n",
       "    <tr>\n",
       "      <th id=\"T_3c034_level0_row11\" class=\"row_heading level0 row11\" >housing_type_name</th>\n",
       "      <td id=\"T_3c034_row11_col0\" class=\"data row11 col0\" >0.000000</td>\n",
       "    </tr>\n",
       "    <tr>\n",
       "      <th id=\"T_3c034_level0_row12\" class=\"row_heading level0 row12\" >days_employed</th>\n",
       "      <td id=\"T_3c034_row12_col0\" class=\"data row12 col0\" >0.000000</td>\n",
       "    </tr>\n",
       "    <tr>\n",
       "      <th id=\"T_3c034_level0_row13\" class=\"row_heading level0 row13\" >mobile_flag</th>\n",
       "      <td id=\"T_3c034_row13_col0\" class=\"data row13 col0\" >0.000000</td>\n",
       "    </tr>\n",
       "    <tr>\n",
       "      <th id=\"T_3c034_level0_row14\" class=\"row_heading level0 row14\" >employee_phone_flag</th>\n",
       "      <td id=\"T_3c034_row14_col0\" class=\"data row14 col0\" >0.000000</td>\n",
       "    </tr>\n",
       "    <tr>\n",
       "      <th id=\"T_3c034_level0_row15\" class=\"row_heading level0 row15\" >email_flag</th>\n",
       "      <td id=\"T_3c034_row15_col0\" class=\"data row15 col0\" >0.000000</td>\n",
       "    </tr>\n",
       "    <tr>\n",
       "      <th id=\"T_3c034_level0_row16\" class=\"row_heading level0 row16\" >type_of_occupation</th>\n",
       "      <td id=\"T_3c034_row16_col0\" class=\"data row16 col0\" >32.000000</td>\n",
       "    </tr>\n",
       "    <tr>\n",
       "      <th id=\"T_3c034_level0_row17\" class=\"row_heading level0 row17\" >family_members__count</th>\n",
       "      <td id=\"T_3c034_row17_col0\" class=\"data row17 col0\" >0.000000</td>\n",
       "    </tr>\n",
       "    <tr>\n",
       "      <th id=\"T_3c034_level0_row18\" class=\"row_heading level0 row18\" >rating_client_w_city_region</th>\n",
       "      <td id=\"T_3c034_row18_col0\" class=\"data row18 col0\" >0.000000</td>\n",
       "    </tr>\n",
       "    <tr>\n",
       "      <th id=\"T_3c034_level0_row19\" class=\"row_heading level0 row19\" >not_live_city_reg_city</th>\n",
       "      <td id=\"T_3c034_row19_col0\" class=\"data row19 col0\" >0.000000</td>\n",
       "    </tr>\n",
       "    <tr>\n",
       "      <th id=\"T_3c034_level0_row20\" class=\"row_heading level0 row20\" >fondkapremon_mode</th>\n",
       "      <td id=\"T_3c034_row20_col0\" class=\"data row20 col0\" >0.000000</td>\n",
       "    </tr>\n",
       "    <tr>\n",
       "      <th id=\"T_3c034_level0_row21\" class=\"row_heading level0 row21\" >mode_house_type</th>\n",
       "      <td id=\"T_3c034_row21_col0\" class=\"data row21 col0\" >50.000000</td>\n",
       "    </tr>\n",
       "    <tr>\n",
       "      <th id=\"T_3c034_level0_row22\" class=\"row_heading level0 row22\" >emergency_state_mode</th>\n",
       "      <td id=\"T_3c034_row22_col0\" class=\"data row22 col0\" >47.000000</td>\n",
       "    </tr>\n",
       "    <tr>\n",
       "      <th id=\"T_3c034_level0_row23\" class=\"row_heading level0 row23\" >requests_bki_year</th>\n",
       "      <td id=\"T_3c034_row23_col0\" class=\"data row23 col0\" >0.000000</td>\n",
       "    </tr>\n",
       "    <tr>\n",
       "      <th id=\"T_3c034_level0_row24\" class=\"row_heading level0 row24\" >down_payment_rate</th>\n",
       "      <td id=\"T_3c034_row24_col0\" class=\"data row24 col0\" >0.000000</td>\n",
       "    </tr>\n",
       "    <tr>\n",
       "      <th id=\"T_3c034_level0_row25\" class=\"row_heading level0 row25\" >contract_status_name</th>\n",
       "      <td id=\"T_3c034_row25_col0\" class=\"data row25 col0\" >0.000000</td>\n",
       "    </tr>\n",
       "    <tr>\n",
       "      <th id=\"T_3c034_level0_row26\" class=\"row_heading level0 row26\" >reject_reason_code</th>\n",
       "      <td id=\"T_3c034_row26_col0\" class=\"data row26 col0\" >0.000000</td>\n",
       "    </tr>\n",
       "    <tr>\n",
       "      <th id=\"T_3c034_level0_row27\" class=\"row_heading level0 row27\" >client_type_name</th>\n",
       "      <td id=\"T_3c034_row27_col0\" class=\"data row27 col0\" >0.000000</td>\n",
       "    </tr>\n",
       "    <tr>\n",
       "      <th id=\"T_3c034_level0_row28\" class=\"row_heading level0 row28\" >channel_type</th>\n",
       "      <td id=\"T_3c034_row28_col0\" class=\"data row28 col0\" >0.000000</td>\n",
       "    </tr>\n",
       "    <tr>\n",
       "      <th id=\"T_3c034_level0_row29\" class=\"row_heading level0 row29\" >combination_of_product</th>\n",
       "      <td id=\"T_3c034_row29_col0\" class=\"data row29 col0\" >0.000000</td>\n",
       "    </tr>\n",
       "    <tr>\n",
       "      <th id=\"T_3c034_level0_row30\" class=\"row_heading level0 row30\" >days_first_drawing</th>\n",
       "      <td id=\"T_3c034_row30_col0\" class=\"data row30 col0\" >0.000000</td>\n",
       "    </tr>\n",
       "    <tr>\n",
       "      <th id=\"T_3c034_level0_row31\" class=\"row_heading level0 row31\" >days_first_due</th>\n",
       "      <td id=\"T_3c034_row31_col0\" class=\"data row31 col0\" >0.000000</td>\n",
       "    </tr>\n",
       "    <tr>\n",
       "      <th id=\"T_3c034_level0_row32\" class=\"row_heading level0 row32\" >first_due_date</th>\n",
       "      <td id=\"T_3c034_row32_col0\" class=\"data row32 col0\" >0.000000</td>\n",
       "    </tr>\n",
       "    <tr>\n",
       "      <th id=\"T_3c034_level0_row33\" class=\"row_heading level0 row33\" >last_due_date</th>\n",
       "      <td id=\"T_3c034_row33_col0\" class=\"data row33 col0\" >0.000000</td>\n",
       "    </tr>\n",
       "    <tr>\n",
       "      <th id=\"T_3c034_level0_row34\" class=\"row_heading level0 row34\" >termination_date</th>\n",
       "      <td id=\"T_3c034_row34_col0\" class=\"data row34 col0\" >0.000000</td>\n",
       "    </tr>\n",
       "    <tr>\n",
       "      <th id=\"T_3c034_level0_row35\" class=\"row_heading level0 row35\" >insured_last_f</th>\n",
       "      <td id=\"T_3c034_row35_col0\" class=\"data row35 col0\" >0.000000</td>\n",
       "    </tr>\n",
       "    <tr>\n",
       "      <th id=\"T_3c034_level0_row36\" class=\"row_heading level0 row36\" >age</th>\n",
       "      <td id=\"T_3c034_row36_col0\" class=\"data row36 col0\" >0.000000</td>\n",
       "    </tr>\n",
       "  </tbody>\n",
       "</table>\n"
      ],
      "text/plain": [
       "<pandas.io.formats.style.Styler at 0x12d8036a0>"
      ]
     },
     "execution_count": 80,
     "metadata": {},
     "output_type": "execute_result"
    }
   ],
   "source": [
    "pd.DataFrame(round(t_new.isna().mean()*100,)).style.background_gradient('coolwarm')"
   ]
  },
  {
   "cell_type": "markdown",
   "id": "ce7ba47d",
   "metadata": {},
   "source": [
    "#### Для трех оставшихся категориальных признаков, которые не поддаются заполнению, принято решение заполнить наиболее часто встречающимися значениями."
   ]
  },
  {
   "cell_type": "code",
   "execution_count": 81,
   "id": "74f2ecef",
   "metadata": {},
   "outputs": [],
   "source": [
    "# filling with most common class\n",
    "t_filled = t_new.apply(lambda x: x.fillna(x.value_counts().index[0]))"
   ]
  },
  {
   "cell_type": "markdown",
   "id": "dc250b96",
   "metadata": {},
   "source": [
    "### Итоговый датасет: `t_filled`\n",
    "- числовые значения заполнены медианой;\n",
    "- часть категорий заполнена следуя логике и допущения о характере пропуска; например, пропуски`'fondkapremon_mode'` могут означать, что анкетируемый или банковский сотрудник не знают ответа и по этой причине не заполнили эту графу. Следуя этому рассуждению, пропуски можно заполнить значением `'not specified'`.\n",
    "- оставшиеся две категорийные колонки имеют 40-50% пропусков, однако характер этих пропусков неясен. В этой связи, пропуски были заполнены самым частым значением под ответственность исследователя."
   ]
  },
  {
   "cell_type": "code",
   "execution_count": 82,
   "id": "6df6a3a3",
   "metadata": {},
   "outputs": [
    {
     "data": {
      "text/html": [
       "<style type=\"text/css\">\n",
       "#T_b3f4d_row0_col0, #T_b3f4d_row1_col0, #T_b3f4d_row2_col0, #T_b3f4d_row3_col0, #T_b3f4d_row4_col0, #T_b3f4d_row5_col0, #T_b3f4d_row6_col0, #T_b3f4d_row7_col0, #T_b3f4d_row8_col0, #T_b3f4d_row9_col0, #T_b3f4d_row10_col0, #T_b3f4d_row11_col0, #T_b3f4d_row12_col0, #T_b3f4d_row13_col0, #T_b3f4d_row14_col0, #T_b3f4d_row15_col0, #T_b3f4d_row16_col0, #T_b3f4d_row17_col0, #T_b3f4d_row18_col0, #T_b3f4d_row19_col0, #T_b3f4d_row20_col0, #T_b3f4d_row21_col0, #T_b3f4d_row22_col0, #T_b3f4d_row23_col0, #T_b3f4d_row24_col0, #T_b3f4d_row25_col0, #T_b3f4d_row26_col0, #T_b3f4d_row27_col0, #T_b3f4d_row28_col0, #T_b3f4d_row29_col0, #T_b3f4d_row30_col0, #T_b3f4d_row31_col0, #T_b3f4d_row32_col0, #T_b3f4d_row33_col0, #T_b3f4d_row34_col0, #T_b3f4d_row35_col0, #T_b3f4d_row36_col0 {\n",
       "  background-color: #3b4cc0;\n",
       "  color: #f1f1f1;\n",
       "}\n",
       "</style>\n",
       "<table id=\"T_b3f4d\">\n",
       "  <thead>\n",
       "    <tr>\n",
       "      <th class=\"blank level0\" >&nbsp;</th>\n",
       "      <th id=\"T_b3f4d_level0_col0\" class=\"col_heading level0 col0\" >0</th>\n",
       "    </tr>\n",
       "  </thead>\n",
       "  <tbody>\n",
       "    <tr>\n",
       "      <th id=\"T_b3f4d_level0_row0\" class=\"row_heading level0 row0\" >reco_id_curr</th>\n",
       "      <td id=\"T_b3f4d_row0_col0\" class=\"data row0 col0\" >0.000000</td>\n",
       "    </tr>\n",
       "    <tr>\n",
       "      <th id=\"T_b3f4d_level0_row1\" class=\"row_heading level0 row1\" >contract_type_name</th>\n",
       "      <td id=\"T_b3f4d_row1_col0\" class=\"data row1 col0\" >0.000000</td>\n",
       "    </tr>\n",
       "    <tr>\n",
       "      <th id=\"T_b3f4d_level0_row2\" class=\"row_heading level0 row2\" >gender</th>\n",
       "      <td id=\"T_b3f4d_row2_col0\" class=\"data row2 col0\" >0.000000</td>\n",
       "    </tr>\n",
       "    <tr>\n",
       "      <th id=\"T_b3f4d_level0_row3\" class=\"row_heading level0 row3\" >own_car_flag</th>\n",
       "      <td id=\"T_b3f4d_row3_col0\" class=\"data row3 col0\" >0.000000</td>\n",
       "    </tr>\n",
       "    <tr>\n",
       "      <th id=\"T_b3f4d_level0_row4\" class=\"row_heading level0 row4\" >own_realty_flag</th>\n",
       "      <td id=\"T_b3f4d_row4_col0\" class=\"data row4 col0\" >0.000000</td>\n",
       "    </tr>\n",
       "    <tr>\n",
       "      <th id=\"T_b3f4d_level0_row5\" class=\"row_heading level0 row5\" >children_count</th>\n",
       "      <td id=\"T_b3f4d_row5_col0\" class=\"data row5 col0\" >0.000000</td>\n",
       "    </tr>\n",
       "    <tr>\n",
       "      <th id=\"T_b3f4d_level0_row6\" class=\"row_heading level0 row6\" >income</th>\n",
       "      <td id=\"T_b3f4d_row6_col0\" class=\"data row6 col0\" >0.000000</td>\n",
       "    </tr>\n",
       "    <tr>\n",
       "      <th id=\"T_b3f4d_level0_row7\" class=\"row_heading level0 row7\" >loan_body</th>\n",
       "      <td id=\"T_b3f4d_row7_col0\" class=\"data row7 col0\" >0.000000</td>\n",
       "    </tr>\n",
       "    <tr>\n",
       "      <th id=\"T_b3f4d_level0_row8\" class=\"row_heading level0 row8\" >income_type_name</th>\n",
       "      <td id=\"T_b3f4d_row8_col0\" class=\"data row8 col0\" >0.000000</td>\n",
       "    </tr>\n",
       "    <tr>\n",
       "      <th id=\"T_b3f4d_level0_row9\" class=\"row_heading level0 row9\" >education_type_name</th>\n",
       "      <td id=\"T_b3f4d_row9_col0\" class=\"data row9 col0\" >0.000000</td>\n",
       "    </tr>\n",
       "    <tr>\n",
       "      <th id=\"T_b3f4d_level0_row10\" class=\"row_heading level0 row10\" >family_status_name</th>\n",
       "      <td id=\"T_b3f4d_row10_col0\" class=\"data row10 col0\" >0.000000</td>\n",
       "    </tr>\n",
       "    <tr>\n",
       "      <th id=\"T_b3f4d_level0_row11\" class=\"row_heading level0 row11\" >housing_type_name</th>\n",
       "      <td id=\"T_b3f4d_row11_col0\" class=\"data row11 col0\" >0.000000</td>\n",
       "    </tr>\n",
       "    <tr>\n",
       "      <th id=\"T_b3f4d_level0_row12\" class=\"row_heading level0 row12\" >days_employed</th>\n",
       "      <td id=\"T_b3f4d_row12_col0\" class=\"data row12 col0\" >0.000000</td>\n",
       "    </tr>\n",
       "    <tr>\n",
       "      <th id=\"T_b3f4d_level0_row13\" class=\"row_heading level0 row13\" >mobile_flag</th>\n",
       "      <td id=\"T_b3f4d_row13_col0\" class=\"data row13 col0\" >0.000000</td>\n",
       "    </tr>\n",
       "    <tr>\n",
       "      <th id=\"T_b3f4d_level0_row14\" class=\"row_heading level0 row14\" >employee_phone_flag</th>\n",
       "      <td id=\"T_b3f4d_row14_col0\" class=\"data row14 col0\" >0.000000</td>\n",
       "    </tr>\n",
       "    <tr>\n",
       "      <th id=\"T_b3f4d_level0_row15\" class=\"row_heading level0 row15\" >email_flag</th>\n",
       "      <td id=\"T_b3f4d_row15_col0\" class=\"data row15 col0\" >0.000000</td>\n",
       "    </tr>\n",
       "    <tr>\n",
       "      <th id=\"T_b3f4d_level0_row16\" class=\"row_heading level0 row16\" >type_of_occupation</th>\n",
       "      <td id=\"T_b3f4d_row16_col0\" class=\"data row16 col0\" >0.000000</td>\n",
       "    </tr>\n",
       "    <tr>\n",
       "      <th id=\"T_b3f4d_level0_row17\" class=\"row_heading level0 row17\" >family_members__count</th>\n",
       "      <td id=\"T_b3f4d_row17_col0\" class=\"data row17 col0\" >0.000000</td>\n",
       "    </tr>\n",
       "    <tr>\n",
       "      <th id=\"T_b3f4d_level0_row18\" class=\"row_heading level0 row18\" >rating_client_w_city_region</th>\n",
       "      <td id=\"T_b3f4d_row18_col0\" class=\"data row18 col0\" >0.000000</td>\n",
       "    </tr>\n",
       "    <tr>\n",
       "      <th id=\"T_b3f4d_level0_row19\" class=\"row_heading level0 row19\" >not_live_city_reg_city</th>\n",
       "      <td id=\"T_b3f4d_row19_col0\" class=\"data row19 col0\" >0.000000</td>\n",
       "    </tr>\n",
       "    <tr>\n",
       "      <th id=\"T_b3f4d_level0_row20\" class=\"row_heading level0 row20\" >fondkapremon_mode</th>\n",
       "      <td id=\"T_b3f4d_row20_col0\" class=\"data row20 col0\" >0.000000</td>\n",
       "    </tr>\n",
       "    <tr>\n",
       "      <th id=\"T_b3f4d_level0_row21\" class=\"row_heading level0 row21\" >mode_house_type</th>\n",
       "      <td id=\"T_b3f4d_row21_col0\" class=\"data row21 col0\" >0.000000</td>\n",
       "    </tr>\n",
       "    <tr>\n",
       "      <th id=\"T_b3f4d_level0_row22\" class=\"row_heading level0 row22\" >emergency_state_mode</th>\n",
       "      <td id=\"T_b3f4d_row22_col0\" class=\"data row22 col0\" >0.000000</td>\n",
       "    </tr>\n",
       "    <tr>\n",
       "      <th id=\"T_b3f4d_level0_row23\" class=\"row_heading level0 row23\" >requests_bki_year</th>\n",
       "      <td id=\"T_b3f4d_row23_col0\" class=\"data row23 col0\" >0.000000</td>\n",
       "    </tr>\n",
       "    <tr>\n",
       "      <th id=\"T_b3f4d_level0_row24\" class=\"row_heading level0 row24\" >down_payment_rate</th>\n",
       "      <td id=\"T_b3f4d_row24_col0\" class=\"data row24 col0\" >0.000000</td>\n",
       "    </tr>\n",
       "    <tr>\n",
       "      <th id=\"T_b3f4d_level0_row25\" class=\"row_heading level0 row25\" >contract_status_name</th>\n",
       "      <td id=\"T_b3f4d_row25_col0\" class=\"data row25 col0\" >0.000000</td>\n",
       "    </tr>\n",
       "    <tr>\n",
       "      <th id=\"T_b3f4d_level0_row26\" class=\"row_heading level0 row26\" >reject_reason_code</th>\n",
       "      <td id=\"T_b3f4d_row26_col0\" class=\"data row26 col0\" >0.000000</td>\n",
       "    </tr>\n",
       "    <tr>\n",
       "      <th id=\"T_b3f4d_level0_row27\" class=\"row_heading level0 row27\" >client_type_name</th>\n",
       "      <td id=\"T_b3f4d_row27_col0\" class=\"data row27 col0\" >0.000000</td>\n",
       "    </tr>\n",
       "    <tr>\n",
       "      <th id=\"T_b3f4d_level0_row28\" class=\"row_heading level0 row28\" >channel_type</th>\n",
       "      <td id=\"T_b3f4d_row28_col0\" class=\"data row28 col0\" >0.000000</td>\n",
       "    </tr>\n",
       "    <tr>\n",
       "      <th id=\"T_b3f4d_level0_row29\" class=\"row_heading level0 row29\" >combination_of_product</th>\n",
       "      <td id=\"T_b3f4d_row29_col0\" class=\"data row29 col0\" >0.000000</td>\n",
       "    </tr>\n",
       "    <tr>\n",
       "      <th id=\"T_b3f4d_level0_row30\" class=\"row_heading level0 row30\" >days_first_drawing</th>\n",
       "      <td id=\"T_b3f4d_row30_col0\" class=\"data row30 col0\" >0.000000</td>\n",
       "    </tr>\n",
       "    <tr>\n",
       "      <th id=\"T_b3f4d_level0_row31\" class=\"row_heading level0 row31\" >days_first_due</th>\n",
       "      <td id=\"T_b3f4d_row31_col0\" class=\"data row31 col0\" >0.000000</td>\n",
       "    </tr>\n",
       "    <tr>\n",
       "      <th id=\"T_b3f4d_level0_row32\" class=\"row_heading level0 row32\" >first_due_date</th>\n",
       "      <td id=\"T_b3f4d_row32_col0\" class=\"data row32 col0\" >0.000000</td>\n",
       "    </tr>\n",
       "    <tr>\n",
       "      <th id=\"T_b3f4d_level0_row33\" class=\"row_heading level0 row33\" >last_due_date</th>\n",
       "      <td id=\"T_b3f4d_row33_col0\" class=\"data row33 col0\" >0.000000</td>\n",
       "    </tr>\n",
       "    <tr>\n",
       "      <th id=\"T_b3f4d_level0_row34\" class=\"row_heading level0 row34\" >termination_date</th>\n",
       "      <td id=\"T_b3f4d_row34_col0\" class=\"data row34 col0\" >0.000000</td>\n",
       "    </tr>\n",
       "    <tr>\n",
       "      <th id=\"T_b3f4d_level0_row35\" class=\"row_heading level0 row35\" >insured_last_f</th>\n",
       "      <td id=\"T_b3f4d_row35_col0\" class=\"data row35 col0\" >0.000000</td>\n",
       "    </tr>\n",
       "    <tr>\n",
       "      <th id=\"T_b3f4d_level0_row36\" class=\"row_heading level0 row36\" >age</th>\n",
       "      <td id=\"T_b3f4d_row36_col0\" class=\"data row36 col0\" >0.000000</td>\n",
       "    </tr>\n",
       "  </tbody>\n",
       "</table>\n"
      ],
      "text/plain": [
       "<pandas.io.formats.style.Styler at 0x12d9dc100>"
      ]
     },
     "execution_count": 82,
     "metadata": {},
     "output_type": "execute_result"
    }
   ],
   "source": [
    "# финальная проверка не пропуски, ожидаем, что все заполнено\n",
    "pd.DataFrame(round(t_filled.isna().mean()*100,)).style.background_gradient('coolwarm')"
   ]
  },
  {
   "cell_type": "markdown",
   "id": "b5960d14",
   "metadata": {},
   "source": [
    "## 2.3 Поиск аномалий в категориальных переменных\n",
    "```\n",
    " - 2   contract_type_name           1201775 non-null  object \n",
    " - 3   gender                       1201775 non-null  object \n",
    " - 4   own_car_flag                 1201775 non-null  object \n",
    " - 5   own_realty_flag              1201775 non-null  object\n",
    " - 9   type_suite_name              1201775 non-null  object \n",
    " - 10  income_type_name             1201775 non-null  object \n",
    " - 11  education_type_name          1201775 non-null  object \n",
    " - 12  family_status_name           1201775 non-null  object \n",
    " - 13  housing_type_name            1201775 non-null  object\n",
    " - 20  type_of_occupation           1201775 non-null  object\n",
    " - 24  type_of_organization         1201775 non-null  object\n",
    " - 37  cash_loan_purpose_name       1201775 non-null  object \n",
    " - 38  contract_status_name         1201775 non-null  object \n",
    " - 39  payment_type_name            1201775 non-null  object \n",
    " - 40  reject_reason_code           1201775 non-null  object \n",
    " - 41  client_type_name             1201775 non-null  object \n",
    " - 42  goods_category_name          1201775 non-null  object \n",
    " - 43  portfolio_name               1201775 non-null  object \n",
    " - 44  product_type_name            1201775 non-null  object \n",
    " - 45  channel_type                 1201775 non-null  object \n",
    " - 46  seller_industry_name         1201775 non-null  object \n",
    " - 47  yield_group_name             1201775 non-null  object \n",
    " - 48  combination_of_product       1201775 non-null  object \n",
    " \n",
    "```"
   ]
  },
  {
   "cell_type": "code",
   "execution_count": 83,
   "id": "bc39290c",
   "metadata": {},
   "outputs": [
    {
     "data": {
      "text/plain": [
       "array(['Cash loans', 'Revolving loans'], dtype=object)"
      ]
     },
     "execution_count": 83,
     "metadata": {},
     "output_type": "execute_result"
    }
   ],
   "source": [
    "t_filled['contract_type_name'].unique() # ok"
   ]
  },
  {
   "cell_type": "code",
   "execution_count": 84,
   "id": "e384da91",
   "metadata": {},
   "outputs": [
    {
     "data": {
      "text/plain": [
       "array(['M', 'F'], dtype=object)"
      ]
     },
     "execution_count": 84,
     "metadata": {},
     "output_type": "execute_result"
    }
   ],
   "source": [
    "t_filled['gender'].unique() # not ok"
   ]
  },
  {
   "cell_type": "code",
   "execution_count": 86,
   "id": "39ab2f87",
   "metadata": {},
   "outputs": [
    {
     "data": {
      "text/plain": [
       "0"
      ]
     },
     "execution_count": 86,
     "metadata": {},
     "output_type": "execute_result"
    }
   ],
   "source": [
    "int(len(t_filled[t_filled['gender'] == 'XNA']) / len(t_filled))"
   ]
  },
  {
   "cell_type": "markdown",
   "id": "899a8f42",
   "metadata": {},
   "source": [
    "#### Аномалии минимальны, можно безопасно удалить без нарушения формы распределения."
   ]
  },
  {
   "cell_type": "code",
   "execution_count": 87,
   "id": "6c4934ce",
   "metadata": {},
   "outputs": [
    {
     "data": {
      "text/plain": [
       "array(['N', 'Y'], dtype=object)"
      ]
     },
     "execution_count": 87,
     "metadata": {},
     "output_type": "execute_result"
    }
   ],
   "source": [
    "t_filled['own_car_flag'].unique() # ok"
   ]
  },
  {
   "cell_type": "code",
   "execution_count": 88,
   "id": "a7228e84",
   "metadata": {},
   "outputs": [
    {
     "data": {
      "text/plain": [
       "array(['Y', 'N'], dtype=object)"
      ]
     },
     "execution_count": 88,
     "metadata": {},
     "output_type": "execute_result"
    }
   ],
   "source": [
    "t_filled['own_realty_flag'].unique() # ok"
   ]
  },
  {
   "cell_type": "code",
   "execution_count": 89,
   "id": "2e030697",
   "metadata": {},
   "outputs": [
    {
     "data": {
      "text/plain": [
       "array(['State servant', 'Working', 'Commercial associate', 'Pensioner',\n",
       "       'Student'], dtype=object)"
      ]
     },
     "execution_count": 89,
     "metadata": {},
     "output_type": "execute_result"
    }
   ],
   "source": [
    "t_filled['income_type_name'].unique() # ok"
   ]
  },
  {
   "cell_type": "code",
   "execution_count": 90,
   "id": "4a0eb564",
   "metadata": {},
   "outputs": [
    {
     "data": {
      "text/plain": [
       "array(['Secondary / secondary special', 'Higher education',\n",
       "       'Incomplete higher', 'Lower secondary', 'Academic degree'],\n",
       "      dtype=object)"
      ]
     },
     "execution_count": 90,
     "metadata": {},
     "output_type": "execute_result"
    }
   ],
   "source": [
    "t_filled['education_type_name'].unique() # ok"
   ]
  },
  {
   "cell_type": "code",
   "execution_count": 91,
   "id": "c32ea76e",
   "metadata": {},
   "outputs": [
    {
     "data": {
      "text/plain": [
       "array(['Married', 'Single / not married', 'Widow', 'Civil marriage',\n",
       "       'Separated'], dtype=object)"
      ]
     },
     "execution_count": 91,
     "metadata": {},
     "output_type": "execute_result"
    }
   ],
   "source": [
    "t_filled['family_status_name'].unique() # ok"
   ]
  },
  {
   "cell_type": "code",
   "execution_count": 92,
   "id": "2ca4f409",
   "metadata": {},
   "outputs": [
    {
     "data": {
      "text/plain": [
       "array(['House / apartment', 'Rented apartment', 'Municipal apartment',\n",
       "       'With parents', 'Office apartment', 'Co-op apartment'],\n",
       "      dtype=object)"
      ]
     },
     "execution_count": 92,
     "metadata": {},
     "output_type": "execute_result"
    }
   ],
   "source": [
    "t_filled['housing_type_name'].unique() # ok"
   ]
  },
  {
   "cell_type": "code",
   "execution_count": 95,
   "id": "0e619533",
   "metadata": {},
   "outputs": [
    {
     "data": {
      "text/plain": [
       "array(['Laborers', 'Drivers', 'Core staff', 'Private service staff',\n",
       "       'Medicine staff', 'Managers', 'Sales staff', 'Accountants',\n",
       "       'Secretaries', 'Security staff', 'High skill tech staff',\n",
       "       'IT staff', 'Cooking staff', 'Waiters/barmen staff',\n",
       "       'Low-skill Laborers', 'Cleaning staff', 'Realty agents',\n",
       "       'HR staff'], dtype=object)"
      ]
     },
     "execution_count": 95,
     "metadata": {},
     "output_type": "execute_result"
    }
   ],
   "source": [
    "t_filled['type_of_occupation'].unique() # ok"
   ]
  },
  {
   "cell_type": "code",
   "execution_count": 97,
   "id": "ebcb41f0",
   "metadata": {},
   "outputs": [
    {
     "data": {
      "text/plain": [
       "array(['Approved', 'Canceled', 'Refused', 'Unused offer'], dtype=object)"
      ]
     },
     "execution_count": 97,
     "metadata": {},
     "output_type": "execute_result"
    }
   ],
   "source": [
    "t_filled['contract_status_name'].unique() # ok"
   ]
  },
  {
   "cell_type": "code",
   "execution_count": 99,
   "id": "c9311db3",
   "metadata": {
    "scrolled": true
   },
   "outputs": [
    {
     "data": {
      "text/plain": [
       "array(['XAP', 'LIMIT', 'HC', 'VERIF', 'SCO', 'CLIENT', 'SCOFR', 'XNA',\n",
       "       'SYSTEM'], dtype=object)"
      ]
     },
     "execution_count": 99,
     "metadata": {},
     "output_type": "execute_result"
    }
   ],
   "source": [
    "t_filled['reject_reason_code'].unique() # ok"
   ]
  },
  {
   "cell_type": "code",
   "execution_count": 100,
   "id": "4aa46cad",
   "metadata": {
    "scrolled": true
   },
   "outputs": [
    {
     "data": {
      "text/plain": [
       "array(['Repeater', 'New', 'Refreshed', 'XNA'], dtype=object)"
      ]
     },
     "execution_count": 100,
     "metadata": {},
     "output_type": "execute_result"
    }
   ],
   "source": [
    "t_filled['client_type_name'].unique() # not ok"
   ]
  },
  {
   "cell_type": "code",
   "execution_count": 101,
   "id": "d035cca9",
   "metadata": {
    "scrolled": true
   },
   "outputs": [
    {
     "data": {
      "text/plain": [
       "0.0011029080759881156"
      ]
     },
     "execution_count": 101,
     "metadata": {},
     "output_type": "execute_result"
    }
   ],
   "source": [
    "len(t_filled[t_filled['client_type_name'] == 'XNA']) / len(t_filled)"
   ]
  },
  {
   "cell_type": "markdown",
   "id": "f09657f4",
   "metadata": {},
   "source": [
    "#### Аномальное значение ```client_type_name``` содержится всего в 0.01% колонки, значит, его можно безопасно удалить."
   ]
  },
  {
   "cell_type": "code",
   "execution_count": 102,
   "id": "cb8a9031",
   "metadata": {},
   "outputs": [],
   "source": [
    "# Using drop() to delete rows based on column value\n",
    "t_filled.drop(t_filled[t_filled['client_type_name'] == 'XNA'].index, inplace = True)"
   ]
  },
  {
   "cell_type": "code",
   "execution_count": 103,
   "id": "eebba576",
   "metadata": {},
   "outputs": [
    {
     "data": {
      "text/plain": [
       "0.0"
      ]
     },
     "execution_count": 103,
     "metadata": {},
     "output_type": "execute_result"
    }
   ],
   "source": [
    "# проверка\n",
    "len(t_filled[t_filled['client_type_name'] == 'XNA']) / len(t_filled)"
   ]
  },
  {
   "cell_type": "code",
   "execution_count": 107,
   "id": "18852f19",
   "metadata": {},
   "outputs": [
    {
     "data": {
      "text/plain": [
       "array(['Country-wide', 'Credit and cash offices', 'Regional / Local',\n",
       "       'Stone', 'AP+ (Cash loan)', 'Contact center',\n",
       "       'Channel of corporate sales', 'Car dealer'], dtype=object)"
      ]
     },
     "execution_count": 107,
     "metadata": {},
     "output_type": "execute_result"
    }
   ],
   "source": [
    "t_filled['channel_type'].unique() # ok"
   ]
  },
  {
   "cell_type": "code",
   "execution_count": 111,
   "id": "9312a712",
   "metadata": {},
   "outputs": [
    {
     "data": {
      "text/plain": [
       "44.71868926652029"
      ]
     },
     "execution_count": 111,
     "metadata": {},
     "output_type": "execute_result"
    }
   ],
   "source": [
    "t_filled['age'].mean()"
   ]
  },
  {
   "cell_type": "code",
   "execution_count": 112,
   "id": "8e6d9204",
   "metadata": {},
   "outputs": [
    {
     "data": {
      "text/plain": [
       "67628.47219405575"
      ]
     },
     "execution_count": 112,
     "metadata": {},
     "output_type": "execute_result"
    }
   ],
   "source": [
    "t_filled['days_employed'].mean()"
   ]
  },
  {
   "cell_type": "code",
   "execution_count": 113,
   "id": "32e482ca",
   "metadata": {
    "scrolled": false
   },
   "outputs": [
    {
     "data": {
      "image/png": "[encoded data removed]",
      "text/plain": [
       "<Figure size 2000x1900 with 20 Axes>"
      ]
     },
     "metadata": {},
     "output_type": "display_data"
    }
   ],
   "source": [
    "t_filled.hist(bins=20, figsize=(20, 19));"
   ]
  },
  {
   "cell_type": "markdown",
   "id": "0105c8ec",
   "metadata": {},
   "source": [
    "**Видим, что данные содержат выбросы.** Изучим описательные статистики, чтобы принять решение об ограничении значений, которые войдут с финальный датасет для анализа."
   ]
  },
  {
   "cell_type": "code",
   "execution_count": 114,
   "id": "03f85355",
   "metadata": {},
   "outputs": [
    {
     "data": {
      "text/plain": [
       "(177516, 37)"
      ]
     },
     "execution_count": 114,
     "metadata": {},
     "output_type": "execute_result"
    }
   ],
   "source": [
    "t_filled.shape"
   ]
  },
  {
   "cell_type": "markdown",
   "id": "50e36c6a",
   "metadata": {},
   "source": [
    "# 3 Исследовательский анализ данных"
   ]
  },
  {
   "cell_type": "code",
   "execution_count": 115,
   "id": "69ac5254",
   "metadata": {},
   "outputs": [
    {
     "data": {
      "text/plain": [
       "(177516, 37)"
      ]
     },
     "execution_count": 115,
     "metadata": {},
     "output_type": "execute_result"
    }
   ],
   "source": [
    "t_filled.shape"
   ]
  },
  {
   "cell_type": "markdown",
   "id": "40da882a",
   "metadata": {},
   "source": [
    "## Работа с выбросами"
   ]
  },
  {
   "cell_type": "code",
   "execution_count": 116,
   "id": "42d94cbc",
   "metadata": {},
   "outputs": [
    {
     "name": "stdout",
     "output_type": "stream",
     "text": [
      "<class 'pandas.core.frame.DataFrame'>\n",
      "Int64Index: 177516 entries, 0 to 214195\n",
      "Data columns (total 37 columns):\n",
      " #   Column                       Non-Null Count   Dtype  \n",
      "---  ------                       --------------   -----  \n",
      " 0   reco_id_curr                 177516 non-null  int64  \n",
      " 1   contract_type_name           177516 non-null  object \n",
      " 2   gender                       177516 non-null  object \n",
      " 3   own_car_flag                 177516 non-null  object \n",
      " 4   own_realty_flag              177516 non-null  object \n",
      " 5   children_count               177516 non-null  int64  \n",
      " 6   income                       177516 non-null  float64\n",
      " 7   loan_body                    177516 non-null  float64\n",
      " 8   income_type_name             177516 non-null  object \n",
      " 9   education_type_name          177516 non-null  object \n",
      " 10  family_status_name           177516 non-null  object \n",
      " 11  housing_type_name            177516 non-null  object \n",
      " 12  days_employed                177516 non-null  int64  \n",
      " 13  mobile_flag                  177516 non-null  int64  \n",
      " 14  employee_phone_flag          177516 non-null  int64  \n",
      " 15  email_flag                   177516 non-null  int64  \n",
      " 16  type_of_occupation           177516 non-null  object \n",
      " 17  family_members__count        177516 non-null  float64\n",
      " 18  rating_client_w_city_region  177516 non-null  int64  \n",
      " 19  not_live_city_reg_city       177516 non-null  int64  \n",
      " 20  fondkapremon_mode            177516 non-null  object \n",
      " 21  mode_house_type              177516 non-null  object \n",
      " 22  emergency_state_mode         177516 non-null  object \n",
      " 23  requests_bki_year            177516 non-null  float64\n",
      " 24  down_payment_rate            177516 non-null  float64\n",
      " 25  contract_status_name         177516 non-null  object \n",
      " 26  reject_reason_code           177516 non-null  object \n",
      " 27  client_type_name             177516 non-null  object \n",
      " 28  channel_type                 177516 non-null  object \n",
      " 29  combination_of_product       177516 non-null  object \n",
      " 30  days_first_drawing           177516 non-null  float64\n",
      " 31  days_first_due               177516 non-null  float64\n",
      " 32  first_due_date               177516 non-null  float64\n",
      " 33  last_due_date                177516 non-null  float64\n",
      " 34  termination_date             177516 non-null  float64\n",
      " 35  insured_last_f               177516 non-null  float64\n",
      " 36  age                          177516 non-null  float64\n",
      "dtypes: float64(12), int64(8), object(17)\n",
      "memory usage: 51.5+ MB\n"
     ]
    }
   ],
   "source": [
    "t_filled.info()"
   ]
  },
  {
   "cell_type": "code",
   "execution_count": 118,
   "id": "62b37e27",
   "metadata": {
    "scrolled": true
   },
   "outputs": [
    {
     "data": {
      "text/plain": [
       "27000.0"
      ]
     },
     "execution_count": 118,
     "metadata": {},
     "output_type": "execute_result"
    }
   ],
   "source": [
    "t_filled['income'].min()"
   ]
  },
  {
   "cell_type": "code",
   "execution_count": 119,
   "id": "02417f28",
   "metadata": {},
   "outputs": [
    {
     "data": {
      "text/plain": [
       "4500000.0"
      ]
     },
     "execution_count": 119,
     "metadata": {},
     "output_type": "execute_result"
    }
   ],
   "source": [
    "t_filled['income'].max()"
   ]
  },
  {
   "cell_type": "code",
   "execution_count": 120,
   "id": "a5b42f87",
   "metadata": {},
   "outputs": [
    {
     "data": {
      "text/plain": [
       "174258.46078787264"
      ]
     },
     "execution_count": 120,
     "metadata": {},
     "output_type": "execute_result"
    }
   ],
   "source": [
    "t_filled['income'].mean()"
   ]
  },
  {
   "cell_type": "markdown",
   "id": "d00904b1",
   "metadata": {},
   "source": [
    "### Обрежем признаки, которые содержат выбросы."
   ]
  },
  {
   "cell_type": "code",
   "execution_count": 122,
   "id": "1a5c118f",
   "metadata": {},
   "outputs": [
    {
     "data": {
      "text/plain": [
       "(177516, 37)"
      ]
     },
     "execution_count": 122,
     "metadata": {},
     "output_type": "execute_result"
    }
   ],
   "source": [
    "t_filled.shape"
   ]
  },
  {
   "cell_type": "code",
   "execution_count": 123,
   "id": "a8a00a4c",
   "metadata": {},
   "outputs": [],
   "source": [
    "t_clean = t_filled.drop(t_filled[t_filled['income'] > 1000000].index)"
   ]
  },
  {
   "cell_type": "code",
   "execution_count": 124,
   "id": "c7ef6a36",
   "metadata": {},
   "outputs": [],
   "source": [
    "t_clean = t_filled.drop(t_filled[t_filled['loan_body'] > 600000].index)"
   ]
  },
  {
   "cell_type": "code",
   "execution_count": 125,
   "id": "a0da4c7c",
   "metadata": {},
   "outputs": [],
   "source": [
    "t_clean = t_filled.drop(t_filled[t_filled['family_members__count'] > 6].index)"
   ]
  },
  {
   "cell_type": "code",
   "execution_count": 126,
   "id": "479bbffb",
   "metadata": {},
   "outputs": [],
   "source": [
    "t_clean = t_filled.drop(t_filled[t_filled['down_payment_rate'] > 0.8].index)"
   ]
  },
  {
   "cell_type": "code",
   "execution_count": 127,
   "id": "81f30c1d",
   "metadata": {},
   "outputs": [],
   "source": [
    "t_clean = t_filled.drop(t_filled[t_filled['requests_bki_year'] > 13].index)"
   ]
  },
  {
   "cell_type": "code",
   "execution_count": 128,
   "id": "9d2cde1c",
   "metadata": {},
   "outputs": [],
   "source": [
    "t_clean = t_filled.drop(t_filled[t_filled['days_first_drawing'] > 500000].index)"
   ]
  },
  {
   "cell_type": "code",
   "execution_count": 129,
   "id": "fe7d2c8c",
   "metadata": {},
   "outputs": [],
   "source": [
    "t_clean = t_filled.drop(t_filled[t_filled['days_first_due'] > 300000].index)"
   ]
  },
  {
   "cell_type": "code",
   "execution_count": 130,
   "id": "77deffe5",
   "metadata": {},
   "outputs": [],
   "source": [
    "t_clean = t_filled.drop(t_filled[t_filled['last_due_date'] > 100000].index)"
   ]
  },
  {
   "cell_type": "code",
   "execution_count": 131,
   "id": "b8fe6b4a",
   "metadata": {},
   "outputs": [],
   "source": [
    "t_clean = t_filled.drop(t_filled[t_filled['termination_date'] > 100000].index)"
   ]
  },
  {
   "cell_type": "code",
   "execution_count": 132,
   "id": "e009bc78",
   "metadata": {
    "scrolled": true
   },
   "outputs": [
    {
     "data": {
      "text/plain": [
       "(140765, 37)"
      ]
     },
     "execution_count": 132,
     "metadata": {},
     "output_type": "execute_result"
    }
   ],
   "source": [
    "t_clean.shape"
   ]
  },
  {
   "cell_type": "code",
   "execution_count": 295,
   "id": "5ec56dc7",
   "metadata": {},
   "outputs": [
    {
     "data": {
      "text/html": [
       "<div>\n",
       "<style scoped>\n",
       "    .dataframe tbody tr th:only-of-type {\n",
       "        vertical-align: middle;\n",
       "    }\n",
       "\n",
       "    .dataframe tbody tr th {\n",
       "        vertical-align: top;\n",
       "    }\n",
       "\n",
       "    .dataframe thead th {\n",
       "        text-align: right;\n",
       "    }\n",
       "</style>\n",
       "<table border=\"1\" class=\"dataframe\">\n",
       "  <thead>\n",
       "    <tr style=\"text-align: right;\">\n",
       "      <th></th>\n",
       "      <th>reco_id_curr</th>\n",
       "      <th>contract_type_name</th>\n",
       "      <th>gender</th>\n",
       "      <th>own_car_flag</th>\n",
       "      <th>own_realty_flag</th>\n",
       "      <th>children_count</th>\n",
       "      <th>income</th>\n",
       "      <th>loan_body</th>\n",
       "      <th>income_type_name</th>\n",
       "      <th>education_type_name</th>\n",
       "      <th>...</th>\n",
       "      <th>client_type_name</th>\n",
       "      <th>channel_type</th>\n",
       "      <th>combination_of_product</th>\n",
       "      <th>days_first_drawing</th>\n",
       "      <th>days_first_due</th>\n",
       "      <th>first_due_date</th>\n",
       "      <th>last_due_date</th>\n",
       "      <th>termination_date</th>\n",
       "      <th>insured_last_f</th>\n",
       "      <th>age</th>\n",
       "    </tr>\n",
       "  </thead>\n",
       "  <tbody>\n",
       "    <tr>\n",
       "      <th>0</th>\n",
       "      <td>100008</td>\n",
       "      <td>Cash loans</td>\n",
       "      <td>M</td>\n",
       "      <td>N</td>\n",
       "      <td>Y</td>\n",
       "      <td>0</td>\n",
       "      <td>99000.0</td>\n",
       "      <td>490495.5</td>\n",
       "      <td>State servant</td>\n",
       "      <td>Secondary / secondary special</td>\n",
       "      <td>...</td>\n",
       "      <td>Repeater</td>\n",
       "      <td>Country-wide</td>\n",
       "      <td>POS household with interest</td>\n",
       "      <td>365243.0</td>\n",
       "      <td>-339.0</td>\n",
       "      <td>-69.0</td>\n",
       "      <td>-69.0</td>\n",
       "      <td>-66.0</td>\n",
       "      <td>0.0</td>\n",
       "      <td>46.413699</td>\n",
       "    </tr>\n",
       "    <tr>\n",
       "      <th>1</th>\n",
       "      <td>100008</td>\n",
       "      <td>Cash loans</td>\n",
       "      <td>M</td>\n",
       "      <td>N</td>\n",
       "      <td>Y</td>\n",
       "      <td>0</td>\n",
       "      <td>99000.0</td>\n",
       "      <td>490495.5</td>\n",
       "      <td>State servant</td>\n",
       "      <td>Secondary / secondary special</td>\n",
       "      <td>...</td>\n",
       "      <td>Repeater</td>\n",
       "      <td>Credit and cash offices</td>\n",
       "      <td>Cash</td>\n",
       "      <td>365243.0</td>\n",
       "      <td>-1454.0</td>\n",
       "      <td>-1049.0</td>\n",
       "      <td>-1214.0</td>\n",
       "      <td>-545.5</td>\n",
       "      <td>0.0</td>\n",
       "      <td>46.413699</td>\n",
       "    </tr>\n",
       "    <tr>\n",
       "      <th>2</th>\n",
       "      <td>100008</td>\n",
       "      <td>Cash loans</td>\n",
       "      <td>M</td>\n",
       "      <td>N</td>\n",
       "      <td>Y</td>\n",
       "      <td>0</td>\n",
       "      <td>99000.0</td>\n",
       "      <td>490495.5</td>\n",
       "      <td>State servant</td>\n",
       "      <td>Secondary / secondary special</td>\n",
       "      <td>...</td>\n",
       "      <td>New</td>\n",
       "      <td>Country-wide</td>\n",
       "      <td>POS mobile with interest</td>\n",
       "      <td>365243.0</td>\n",
       "      <td>-2491.0</td>\n",
       "      <td>-2341.0</td>\n",
       "      <td>-2341.0</td>\n",
       "      <td>-2334.0</td>\n",
       "      <td>0.0</td>\n",
       "      <td>46.413699</td>\n",
       "    </tr>\n",
       "    <tr>\n",
       "      <th>3</th>\n",
       "      <td>100008</td>\n",
       "      <td>Cash loans</td>\n",
       "      <td>M</td>\n",
       "      <td>N</td>\n",
       "      <td>Y</td>\n",
       "      <td>0</td>\n",
       "      <td>99000.0</td>\n",
       "      <td>490495.5</td>\n",
       "      <td>State servant</td>\n",
       "      <td>Secondary / secondary special</td>\n",
       "      <td>...</td>\n",
       "      <td>Refreshed</td>\n",
       "      <td>Country-wide</td>\n",
       "      <td>Cash X-Sell: middle</td>\n",
       "      <td>365243.0</td>\n",
       "      <td>-609.0</td>\n",
       "      <td>261.0</td>\n",
       "      <td>-399.0</td>\n",
       "      <td>-388.0</td>\n",
       "      <td>1.0</td>\n",
       "      <td>46.413699</td>\n",
       "    </tr>\n",
       "    <tr>\n",
       "      <th>4</th>\n",
       "      <td>100008</td>\n",
       "      <td>Cash loans</td>\n",
       "      <td>M</td>\n",
       "      <td>N</td>\n",
       "      <td>Y</td>\n",
       "      <td>0</td>\n",
       "      <td>99000.0</td>\n",
       "      <td>490495.5</td>\n",
       "      <td>State servant</td>\n",
       "      <td>Secondary / secondary special</td>\n",
       "      <td>...</td>\n",
       "      <td>Repeater</td>\n",
       "      <td>Regional / Local</td>\n",
       "      <td>POS household with interest</td>\n",
       "      <td>365243.0</td>\n",
       "      <td>-2299.0</td>\n",
       "      <td>-2029.0</td>\n",
       "      <td>-2029.0</td>\n",
       "      <td>-703.0</td>\n",
       "      <td>0.0</td>\n",
       "      <td>46.413699</td>\n",
       "    </tr>\n",
       "  </tbody>\n",
       "</table>\n",
       "<p>5 rows × 37 columns</p>\n",
       "</div>"
      ],
      "text/plain": [
       "   reco_id_curr contract_type_name gender own_car_flag own_realty_flag  \\\n",
       "0        100008         Cash loans      M            N               Y   \n",
       "1        100008         Cash loans      M            N               Y   \n",
       "2        100008         Cash loans      M            N               Y   \n",
       "3        100008         Cash loans      M            N               Y   \n",
       "4        100008         Cash loans      M            N               Y   \n",
       "\n",
       "   children_count   income  loan_body income_type_name  \\\n",
       "0               0  99000.0   490495.5    State servant   \n",
       "1               0  99000.0   490495.5    State servant   \n",
       "2               0  99000.0   490495.5    State servant   \n",
       "3               0  99000.0   490495.5    State servant   \n",
       "4               0  99000.0   490495.5    State servant   \n",
       "\n",
       "             education_type_name  ... client_type_name  \\\n",
       "0  Secondary / secondary special  ...         Repeater   \n",
       "1  Secondary / secondary special  ...         Repeater   \n",
       "2  Secondary / secondary special  ...              New   \n",
       "3  Secondary / secondary special  ...        Refreshed   \n",
       "4  Secondary / secondary special  ...         Repeater   \n",
       "\n",
       "              channel_type       combination_of_product  days_first_drawing  \\\n",
       "0             Country-wide  POS household with interest            365243.0   \n",
       "1  Credit and cash offices                         Cash            365243.0   \n",
       "2             Country-wide     POS mobile with interest            365243.0   \n",
       "3             Country-wide          Cash X-Sell: middle            365243.0   \n",
       "4         Regional / Local  POS household with interest            365243.0   \n",
       "\n",
       "   days_first_due  first_due_date last_due_date  termination_date  \\\n",
       "0          -339.0           -69.0         -69.0             -66.0   \n",
       "1         -1454.0         -1049.0       -1214.0            -545.5   \n",
       "2         -2491.0         -2341.0       -2341.0           -2334.0   \n",
       "3          -609.0           261.0        -399.0            -388.0   \n",
       "4         -2299.0         -2029.0       -2029.0            -703.0   \n",
       "\n",
       "   insured_last_f        age  \n",
       "0             0.0  46.413699  \n",
       "1             0.0  46.413699  \n",
       "2             0.0  46.413699  \n",
       "3             1.0  46.413699  \n",
       "4             0.0  46.413699  \n",
       "\n",
       "[5 rows x 37 columns]"
      ]
     },
     "execution_count": 295,
     "metadata": {},
     "output_type": "execute_result"
    }
   ],
   "source": [
    "t_clean.head()"
   ]
  },
  {
   "cell_type": "markdown",
   "id": "fc4ef940",
   "metadata": {},
   "source": [
    "# 4 Строим различные модели и выбираем наилучшую из них по метрике качества\n",
    "\n",
    "## 4.1 Делим данные на подвыборки\n",
    "```\n",
    "- 75% train_data\n",
    "- 15% test_data\n",
    "```"
   ]
  },
  {
   "cell_type": "code",
   "execution_count": 327,
   "id": "9821ece8",
   "metadata": {},
   "outputs": [],
   "source": [
    "train_d = pd.read_csv('/Users/yuliabezginova/PycharmProjects/00_files-for_NLP/shift_ml_winter_2023/data_clean_final.csv')"
   ]
  },
  {
   "cell_type": "code",
   "execution_count": 328,
   "id": "4d1208a0",
   "metadata": {
    "scrolled": true
   },
   "outputs": [
    {
     "data": {
      "text/plain": [
       "(802381, 38)"
      ]
     },
     "execution_count": 328,
     "metadata": {},
     "output_type": "execute_result"
    }
   ],
   "source": [
    "train_d.shape"
   ]
  },
  {
   "cell_type": "code",
   "execution_count": 329,
   "id": "9ccfad16",
   "metadata": {},
   "outputs": [],
   "source": [
    "test = t_clean.copy()"
   ]
  },
  {
   "cell_type": "code",
   "execution_count": 330,
   "id": "bc946b68",
   "metadata": {
    "scrolled": false
   },
   "outputs": [
    {
     "data": {
      "text/plain": [
       "(140765, 37)"
      ]
     },
     "execution_count": 330,
     "metadata": {},
     "output_type": "execute_result"
    }
   ],
   "source": [
    "test.shape"
   ]
  },
  {
   "cell_type": "code",
   "execution_count": 331,
   "id": "f74553f1",
   "metadata": {},
   "outputs": [
    {
     "name": "stdout",
     "output_type": "stream",
     "text": [
      "<class 'pandas.core.frame.DataFrame'>\n",
      "Int64Index: 140765 entries, 0 to 214195\n",
      "Data columns (total 37 columns):\n",
      " #   Column                       Non-Null Count   Dtype  \n",
      "---  ------                       --------------   -----  \n",
      " 0   reco_id_curr                 140765 non-null  int64  \n",
      " 1   contract_type_name           140765 non-null  object \n",
      " 2   gender                       140765 non-null  object \n",
      " 3   own_car_flag                 140765 non-null  object \n",
      " 4   own_realty_flag              140765 non-null  object \n",
      " 5   children_count               140765 non-null  int64  \n",
      " 6   income                       140765 non-null  float64\n",
      " 7   loan_body                    140765 non-null  float64\n",
      " 8   income_type_name             140765 non-null  object \n",
      " 9   education_type_name          140765 non-null  object \n",
      " 10  family_status_name           140765 non-null  object \n",
      " 11  housing_type_name            140765 non-null  object \n",
      " 12  days_employed                140765 non-null  int64  \n",
      " 13  mobile_flag                  140765 non-null  int64  \n",
      " 14  employee_phone_flag          140765 non-null  int64  \n",
      " 15  email_flag                   140765 non-null  int64  \n",
      " 16  type_of_occupation           140765 non-null  object \n",
      " 17  family_members__count        140765 non-null  float64\n",
      " 18  rating_client_w_city_region  140765 non-null  int64  \n",
      " 19  not_live_city_reg_city       140765 non-null  int64  \n",
      " 20  fondkapremon_mode            140765 non-null  object \n",
      " 21  mode_house_type              140765 non-null  object \n",
      " 22  emergency_state_mode         140765 non-null  object \n",
      " 23  requests_bki_year            140765 non-null  float64\n",
      " 24  down_payment_rate            140765 non-null  float64\n",
      " 25  contract_status_name         140765 non-null  object \n",
      " 26  reject_reason_code           140765 non-null  object \n",
      " 27  client_type_name             140765 non-null  object \n",
      " 28  channel_type                 140765 non-null  object \n",
      " 29  combination_of_product       140765 non-null  object \n",
      " 30  days_first_drawing           140765 non-null  float64\n",
      " 31  days_first_due               140765 non-null  float64\n",
      " 32  first_due_date               140765 non-null  float64\n",
      " 33  last_due_date                140765 non-null  float64\n",
      " 34  termination_date             140765 non-null  float64\n",
      " 35  insured_last_f               140765 non-null  float64\n",
      " 36  age                          140765 non-null  float64\n",
      "dtypes: float64(12), int64(8), object(17)\n",
      "memory usage: 44.8+ MB\n"
     ]
    }
   ],
   "source": [
    "test.info()"
   ]
  },
  {
   "cell_type": "markdown",
   "id": "f4b4a7ab",
   "metadata": {},
   "source": [
    "## 4.2 Кодирование признаков\n",
    "\n",
    "### Кодирование признаков проводим после разбиения датасета на подвыборки для обучения и теста, чтобы избежать утечки данных.\n",
    "\n",
    "Есть несколько способов, как кодировать переменные:\n",
    "\n",
    "- get_dummies()\n",
    "- OHE\n",
    "- OrdinalEncoding\n",
    "- LabelEncoding\n",
    "\n",
    "### Мы *не* хотим увеличивать количество колонок в данных, поэтому в рамках данного проекта выбираем способ кодирования *OrdinalEncoding()*."
   ]
  },
  {
   "cell_type": "code",
   "execution_count": 332,
   "id": "4f02d5f5",
   "metadata": {},
   "outputs": [],
   "source": [
    "# define ordinal encoding\n",
    "ordinalencoder = OrdinalEncoder()"
   ]
  },
  {
   "cell_type": "code",
   "execution_count": 333,
   "id": "8fb85589",
   "metadata": {},
   "outputs": [],
   "source": [
    "result_train = ordinalencoder.set_params(encoded_missing_value=-1).fit_transform(train_d[['contract_type_name',\n",
    "                                                      'gender',\n",
    "                                                      'own_car_flag',\n",
    "                                                      'own_realty_flag',\n",
    "                                                      'income_type_name',\n",
    "                                                      'education_type_name',\n",
    "                                                      'family_status_name',\n",
    "                                                      'housing_type_name',\n",
    "                                                      'type_of_occupation',\n",
    "                                                      'fondkapremon_mode',\n",
    "                                                      'mode_house_type',\n",
    "                                                      'emergency_state_mode',\n",
    "                                                      'contract_status_name',\n",
    "                                                      'reject_reason_code',\n",
    "                                                      'client_type_name',\n",
    "                                                      'channel_type',\n",
    "                                                      'combination_of_product']])"
   ]
  },
  {
   "cell_type": "code",
   "execution_count": 334,
   "id": "a75cec6c",
   "metadata": {},
   "outputs": [],
   "source": [
    "result_test = ordinalencoder.set_params(encoded_missing_value=-1).fit_transform(test[['contract_type_name',\n",
    "                                                      'gender',\n",
    "                                                      'own_car_flag',\n",
    "                                                      'own_realty_flag',\n",
    "                                                      'income_type_name',\n",
    "                                                      'education_type_name',\n",
    "                                                      'family_status_name',\n",
    "                                                      'housing_type_name',\n",
    "                                                      'type_of_occupation',\n",
    "                                                      'fondkapremon_mode',\n",
    "                                                      'mode_house_type',\n",
    "                                                      'emergency_state_mode',\n",
    "                                                      'contract_status_name',\n",
    "                                                      'reject_reason_code',\n",
    "                                                      'client_type_name',\n",
    "                                                      'channel_type',\n",
    "                                                      'combination_of_product']])"
   ]
  },
  {
   "cell_type": "code",
   "execution_count": 335,
   "id": "b66bc1d3",
   "metadata": {},
   "outputs": [],
   "source": [
    "result_train = pd.DataFrame(result_train)"
   ]
  },
  {
   "cell_type": "code",
   "execution_count": 336,
   "id": "99a4f512",
   "metadata": {},
   "outputs": [],
   "source": [
    "result_test = pd.DataFrame(result_test)"
   ]
  },
  {
   "cell_type": "code",
   "execution_count": 338,
   "id": "4bbfd002",
   "metadata": {
    "scrolled": false
   },
   "outputs": [],
   "source": [
    "# объединим закодированные колонки и наш основной датасет (с удаленными категориальными признаками)\n",
    "train_enc = train_d.join(result_train)"
   ]
  },
  {
   "cell_type": "code",
   "execution_count": 339,
   "id": "86903f71",
   "metadata": {},
   "outputs": [],
   "source": [
    "train_encoded = train_enc.dropna()"
   ]
  },
  {
   "cell_type": "code",
   "execution_count": 340,
   "id": "0c4f7dc4",
   "metadata": {},
   "outputs": [
    {
     "name": "stdout",
     "output_type": "stream",
     "text": [
      "<class 'pandas.core.frame.DataFrame'>\n",
      "RangeIndex: 802381 entries, 0 to 802380\n",
      "Data columns (total 55 columns):\n",
      " #   Column                       Non-Null Count   Dtype  \n",
      "---  ------                       --------------   -----  \n",
      " 0   reco_id_curr                 802381 non-null  int64  \n",
      " 1   target                       802381 non-null  int64  \n",
      " 2   contract_type_name           802381 non-null  object \n",
      " 3   gender                       802381 non-null  object \n",
      " 4   own_car_flag                 802381 non-null  object \n",
      " 5   own_realty_flag              802381 non-null  object \n",
      " 6   children_count               802381 non-null  int64  \n",
      " 7   income                       802381 non-null  float64\n",
      " 8   loan_body                    802381 non-null  float64\n",
      " 9   income_type_name             802381 non-null  object \n",
      " 10  education_type_name          802381 non-null  object \n",
      " 11  family_status_name           802381 non-null  object \n",
      " 12  housing_type_name            802381 non-null  object \n",
      " 13  days_employed                802381 non-null  int64  \n",
      " 14  mobile_flag                  802381 non-null  int64  \n",
      " 15  employee_phone_flag          802381 non-null  int64  \n",
      " 16  email_flag                   802381 non-null  int64  \n",
      " 17  type_of_occupation           802381 non-null  object \n",
      " 18  family_members__count        802381 non-null  float64\n",
      " 19  rating_client_w_city_region  802381 non-null  int64  \n",
      " 20  not_live_city_reg_city       802381 non-null  int64  \n",
      " 21  fondkapremon_mode            802381 non-null  object \n",
      " 22  mode_house_type              802381 non-null  object \n",
      " 23  emergency_state_mode         802381 non-null  object \n",
      " 24  requests_bki_year            802381 non-null  float64\n",
      " 25  down_payment_rate            802381 non-null  float64\n",
      " 26  contract_status_name         802381 non-null  object \n",
      " 27  reject_reason_code           802381 non-null  object \n",
      " 28  client_type_name             802381 non-null  object \n",
      " 29  channel_type                 802381 non-null  object \n",
      " 30  combination_of_product       802381 non-null  object \n",
      " 31  days_first_drawing           802381 non-null  float64\n",
      " 32  days_first_due               802381 non-null  float64\n",
      " 33  first_due_date               802381 non-null  float64\n",
      " 34  last_due_date                802381 non-null  float64\n",
      " 35  termination_date             802381 non-null  float64\n",
      " 36  insured_last_f               802381 non-null  float64\n",
      " 37  age                          802381 non-null  float64\n",
      " 38  0                            802381 non-null  float64\n",
      " 39  1                            802381 non-null  float64\n",
      " 40  2                            802381 non-null  float64\n",
      " 41  3                            802381 non-null  float64\n",
      " 42  4                            802381 non-null  float64\n",
      " 43  5                            802381 non-null  float64\n",
      " 44  6                            802381 non-null  float64\n",
      " 45  7                            802381 non-null  float64\n",
      " 46  8                            802381 non-null  float64\n",
      " 47  9                            802381 non-null  float64\n",
      " 48  10                           802381 non-null  float64\n",
      " 49  11                           802381 non-null  float64\n",
      " 50  12                           802381 non-null  float64\n",
      " 51  13                           802381 non-null  float64\n",
      " 52  14                           802381 non-null  float64\n",
      " 53  15                           802381 non-null  float64\n",
      " 54  16                           802381 non-null  float64\n",
      "dtypes: float64(29), int64(9), object(17)\n",
      "memory usage: 336.7+ MB\n"
     ]
    }
   ],
   "source": [
    "train_encoded.info()"
   ]
  },
  {
   "cell_type": "code",
   "execution_count": 341,
   "id": "9b3b8220",
   "metadata": {},
   "outputs": [],
   "source": [
    "# объединим закодированные колонки и наш основной датасет (с удаленными категориальными признаками)\n",
    "test = test.join(result_test)"
   ]
  },
  {
   "cell_type": "code",
   "execution_count": 342,
   "id": "174dc310",
   "metadata": {},
   "outputs": [],
   "source": [
    "test = test.dropna()"
   ]
  },
  {
   "cell_type": "code",
   "execution_count": 343,
   "id": "7e824bf6",
   "metadata": {},
   "outputs": [
    {
     "name": "stdout",
     "output_type": "stream",
     "text": [
      "<class 'pandas.core.frame.DataFrame'>\n",
      "Int64Index: 92163 entries, 0 to 140764\n",
      "Data columns (total 54 columns):\n",
      " #   Column                       Non-Null Count  Dtype  \n",
      "---  ------                       --------------  -----  \n",
      " 0   reco_id_curr                 92163 non-null  int64  \n",
      " 1   contract_type_name           92163 non-null  object \n",
      " 2   gender                       92163 non-null  object \n",
      " 3   own_car_flag                 92163 non-null  object \n",
      " 4   own_realty_flag              92163 non-null  object \n",
      " 5   children_count               92163 non-null  int64  \n",
      " 6   income                       92163 non-null  float64\n",
      " 7   loan_body                    92163 non-null  float64\n",
      " 8   income_type_name             92163 non-null  object \n",
      " 9   education_type_name          92163 non-null  object \n",
      " 10  family_status_name           92163 non-null  object \n",
      " 11  housing_type_name            92163 non-null  object \n",
      " 12  days_employed                92163 non-null  int64  \n",
      " 13  mobile_flag                  92163 non-null  int64  \n",
      " 14  employee_phone_flag          92163 non-null  int64  \n",
      " 15  email_flag                   92163 non-null  int64  \n",
      " 16  type_of_occupation           92163 non-null  object \n",
      " 17  family_members__count        92163 non-null  float64\n",
      " 18  rating_client_w_city_region  92163 non-null  int64  \n",
      " 19  not_live_city_reg_city       92163 non-null  int64  \n",
      " 20  fondkapremon_mode            92163 non-null  object \n",
      " 21  mode_house_type              92163 non-null  object \n",
      " 22  emergency_state_mode         92163 non-null  object \n",
      " 23  requests_bki_year            92163 non-null  float64\n",
      " 24  down_payment_rate            92163 non-null  float64\n",
      " 25  contract_status_name         92163 non-null  object \n",
      " 26  reject_reason_code           92163 non-null  object \n",
      " 27  client_type_name             92163 non-null  object \n",
      " 28  channel_type                 92163 non-null  object \n",
      " 29  combination_of_product       92163 non-null  object \n",
      " 30  days_first_drawing           92163 non-null  float64\n",
      " 31  days_first_due               92163 non-null  float64\n",
      " 32  first_due_date               92163 non-null  float64\n",
      " 33  last_due_date                92163 non-null  float64\n",
      " 34  termination_date             92163 non-null  float64\n",
      " 35  insured_last_f               92163 non-null  float64\n",
      " 36  age                          92163 non-null  float64\n",
      " 37  0                            92163 non-null  float64\n",
      " 38  1                            92163 non-null  float64\n",
      " 39  2                            92163 non-null  float64\n",
      " 40  3                            92163 non-null  float64\n",
      " 41  4                            92163 non-null  float64\n",
      " 42  5                            92163 non-null  float64\n",
      " 43  6                            92163 non-null  float64\n",
      " 44  7                            92163 non-null  float64\n",
      " 45  8                            92163 non-null  float64\n",
      " 46  9                            92163 non-null  float64\n",
      " 47  10                           92163 non-null  float64\n",
      " 48  11                           92163 non-null  float64\n",
      " 49  12                           92163 non-null  float64\n",
      " 50  13                           92163 non-null  float64\n",
      " 51  14                           92163 non-null  float64\n",
      " 52  15                           92163 non-null  float64\n",
      " 53  16                           92163 non-null  float64\n",
      "dtypes: float64(29), int64(8), object(17)\n",
      "memory usage: 38.7+ MB\n"
     ]
    }
   ],
   "source": [
    "test.info()"
   ]
  },
  {
   "cell_type": "code",
   "execution_count": 344,
   "id": "8309aa23",
   "metadata": {},
   "outputs": [],
   "source": [
    "# удалим колонки, которые закодировали\n",
    "train_dropped = train_encoded.drop(columns=['contract_type_name',\n",
    "                                                      'gender',\n",
    "                                                      'own_car_flag',\n",
    "                                                      'own_realty_flag',\n",
    "                                                      'income_type_name',\n",
    "                                                      'education_type_name',\n",
    "                                                      'family_status_name',\n",
    "                                                      'housing_type_name',\n",
    "                                                      'type_of_occupation',\n",
    "                                                      'fondkapremon_mode',\n",
    "                                                      'mode_house_type',\n",
    "                                                      'emergency_state_mode',\n",
    "                                                      'contract_status_name',\n",
    "                                                      'reject_reason_code',\n",
    "                                                      'client_type_name',\n",
    "                                                      'channel_type',\n",
    "                                                      'combination_of_product'], axis=1)"
   ]
  },
  {
   "cell_type": "code",
   "execution_count": 345,
   "id": "63931929",
   "metadata": {},
   "outputs": [],
   "source": [
    "# удалим колонки, которые закодировали\n",
    "test_dropped = test.drop(columns=['contract_type_name',\n",
    "                                                      'gender',\n",
    "                                                      'own_car_flag',\n",
    "                                                      'own_realty_flag',\n",
    "                                                      'income_type_name',\n",
    "                                                      'education_type_name',\n",
    "                                                      'family_status_name',\n",
    "                                                      'housing_type_name',\n",
    "                                                      'type_of_occupation',\n",
    "                                                      'fondkapremon_mode',\n",
    "                                                      'mode_house_type',\n",
    "                                                      'emergency_state_mode',\n",
    "                                                      'contract_status_name',\n",
    "                                                      'reject_reason_code',\n",
    "                                                      'client_type_name',\n",
    "                                                      'channel_type',\n",
    "                                                      'combination_of_product'], axis=1)"
   ]
  },
  {
   "cell_type": "code",
   "execution_count": 346,
   "id": "a1e2a642",
   "metadata": {
    "scrolled": true
   },
   "outputs": [
    {
     "data": {
      "text/plain": [
       "(802381, 38)"
      ]
     },
     "execution_count": 346,
     "metadata": {},
     "output_type": "execute_result"
    }
   ],
   "source": [
    "train_dropped.shape"
   ]
  },
  {
   "cell_type": "code",
   "execution_count": 347,
   "id": "39144680",
   "metadata": {
    "scrolled": true
   },
   "outputs": [
    {
     "name": "stdout",
     "output_type": "stream",
     "text": [
      "<class 'pandas.core.frame.DataFrame'>\n",
      "RangeIndex: 802381 entries, 0 to 802380\n",
      "Data columns (total 38 columns):\n",
      " #   Column                       Non-Null Count   Dtype  \n",
      "---  ------                       --------------   -----  \n",
      " 0   reco_id_curr                 802381 non-null  int64  \n",
      " 1   target                       802381 non-null  int64  \n",
      " 2   children_count               802381 non-null  int64  \n",
      " 3   income                       802381 non-null  float64\n",
      " 4   loan_body                    802381 non-null  float64\n",
      " 5   days_employed                802381 non-null  int64  \n",
      " 6   mobile_flag                  802381 non-null  int64  \n",
      " 7   employee_phone_flag          802381 non-null  int64  \n",
      " 8   email_flag                   802381 non-null  int64  \n",
      " 9   family_members__count        802381 non-null  float64\n",
      " 10  rating_client_w_city_region  802381 non-null  int64  \n",
      " 11  not_live_city_reg_city       802381 non-null  int64  \n",
      " 12  requests_bki_year            802381 non-null  float64\n",
      " 13  down_payment_rate            802381 non-null  float64\n",
      " 14  days_first_drawing           802381 non-null  float64\n",
      " 15  days_first_due               802381 non-null  float64\n",
      " 16  first_due_date               802381 non-null  float64\n",
      " 17  last_due_date                802381 non-null  float64\n",
      " 18  termination_date             802381 non-null  float64\n",
      " 19  insured_last_f               802381 non-null  float64\n",
      " 20  age                          802381 non-null  float64\n",
      " 21  0                            802381 non-null  float64\n",
      " 22  1                            802381 non-null  float64\n",
      " 23  2                            802381 non-null  float64\n",
      " 24  3                            802381 non-null  float64\n",
      " 25  4                            802381 non-null  float64\n",
      " 26  5                            802381 non-null  float64\n",
      " 27  6                            802381 non-null  float64\n",
      " 28  7                            802381 non-null  float64\n",
      " 29  8                            802381 non-null  float64\n",
      " 30  9                            802381 non-null  float64\n",
      " 31  10                           802381 non-null  float64\n",
      " 32  11                           802381 non-null  float64\n",
      " 33  12                           802381 non-null  float64\n",
      " 34  13                           802381 non-null  float64\n",
      " 35  14                           802381 non-null  float64\n",
      " 36  15                           802381 non-null  float64\n",
      " 37  16                           802381 non-null  float64\n",
      "dtypes: float64(29), int64(9)\n",
      "memory usage: 232.6 MB\n"
     ]
    }
   ],
   "source": [
    "train_dropped.info()"
   ]
  },
  {
   "cell_type": "code",
   "execution_count": 348,
   "id": "6738a508",
   "metadata": {
    "scrolled": false
   },
   "outputs": [
    {
     "data": {
      "text/plain": [
       "(92163, 37)"
      ]
     },
     "execution_count": 348,
     "metadata": {},
     "output_type": "execute_result"
    }
   ],
   "source": [
    "test_dropped.shape"
   ]
  },
  {
   "cell_type": "code",
   "execution_count": 349,
   "id": "1e6ad151",
   "metadata": {},
   "outputs": [
    {
     "name": "stdout",
     "output_type": "stream",
     "text": [
      "<class 'pandas.core.frame.DataFrame'>\n",
      "Int64Index: 92163 entries, 0 to 140764\n",
      "Data columns (total 37 columns):\n",
      " #   Column                       Non-Null Count  Dtype  \n",
      "---  ------                       --------------  -----  \n",
      " 0   reco_id_curr                 92163 non-null  int64  \n",
      " 1   children_count               92163 non-null  int64  \n",
      " 2   income                       92163 non-null  float64\n",
      " 3   loan_body                    92163 non-null  float64\n",
      " 4   days_employed                92163 non-null  int64  \n",
      " 5   mobile_flag                  92163 non-null  int64  \n",
      " 6   employee_phone_flag          92163 non-null  int64  \n",
      " 7   email_flag                   92163 non-null  int64  \n",
      " 8   family_members__count        92163 non-null  float64\n",
      " 9   rating_client_w_city_region  92163 non-null  int64  \n",
      " 10  not_live_city_reg_city       92163 non-null  int64  \n",
      " 11  requests_bki_year            92163 non-null  float64\n",
      " 12  down_payment_rate            92163 non-null  float64\n",
      " 13  days_first_drawing           92163 non-null  float64\n",
      " 14  days_first_due               92163 non-null  float64\n",
      " 15  first_due_date               92163 non-null  float64\n",
      " 16  last_due_date                92163 non-null  float64\n",
      " 17  termination_date             92163 non-null  float64\n",
      " 18  insured_last_f               92163 non-null  float64\n",
      " 19  age                          92163 non-null  float64\n",
      " 20  0                            92163 non-null  float64\n",
      " 21  1                            92163 non-null  float64\n",
      " 22  2                            92163 non-null  float64\n",
      " 23  3                            92163 non-null  float64\n",
      " 24  4                            92163 non-null  float64\n",
      " 25  5                            92163 non-null  float64\n",
      " 26  6                            92163 non-null  float64\n",
      " 27  7                            92163 non-null  float64\n",
      " 28  8                            92163 non-null  float64\n",
      " 29  9                            92163 non-null  float64\n",
      " 30  10                           92163 non-null  float64\n",
      " 31  11                           92163 non-null  float64\n",
      " 32  12                           92163 non-null  float64\n",
      " 33  13                           92163 non-null  float64\n",
      " 34  14                           92163 non-null  float64\n",
      " 35  15                           92163 non-null  float64\n",
      " 36  16                           92163 non-null  float64\n",
      "dtypes: float64(29), int64(8)\n",
      "memory usage: 26.7 MB\n"
     ]
    }
   ],
   "source": [
    "test_dropped.info()"
   ]
  },
  {
   "cell_type": "markdown",
   "id": "f760e3eb",
   "metadata": {},
   "source": [
    "### После кодирования категориальных переменных выделяем `X, y` для обучения и тестирования моделей."
   ]
  },
  {
   "cell_type": "code",
   "execution_count": 350,
   "id": "565ea8c6",
   "metadata": {
    "scrolled": false
   },
   "outputs": [
    {
     "name": "stdout",
     "output_type": "stream",
     "text": [
      "Обучающая выборка (признаки): 802381\n",
      "Обучающая выборка (таргет) 802381\n"
     ]
    }
   ],
   "source": [
    "X_train = train_dropped.drop(['target'], axis=1)\n",
    "y_train = train_dropped['target']\n",
    "\n",
    "print('Обучающая выборка (признаки):', X_train.shape[0])\n",
    "print('Обучающая выборка (таргет)', y_train.shape[0])"
   ]
  },
  {
   "cell_type": "code",
   "execution_count": 357,
   "id": "a4e39a97",
   "metadata": {},
   "outputs": [
    {
     "data": {
      "text/plain": [
       "(802381, 37)"
      ]
     },
     "execution_count": 357,
     "metadata": {},
     "output_type": "execute_result"
    }
   ],
   "source": [
    "X_train.shape"
   ]
  },
  {
   "cell_type": "markdown",
   "id": "9ecc3e97",
   "metadata": {},
   "source": [
    "## 4.3 Масштабирование признаков"
   ]
  },
  {
   "cell_type": "code",
   "execution_count": 353,
   "id": "9c85f711",
   "metadata": {},
   "outputs": [],
   "source": [
    "from sklearn.preprocessing import MinMaxScaler"
   ]
  },
  {
   "cell_type": "code",
   "execution_count": 358,
   "id": "82dd4a6a",
   "metadata": {},
   "outputs": [
    {
     "name": "stderr",
     "output_type": "stream",
     "text": [
      "/Users/yuliabezginova/Library/Python/3.10/lib/python/site-packages/sklearn/utils/validation.py:1858: FutureWarning: Feature names only support names that are all strings. Got feature names with dtypes: ['int', 'str']. An error will be raised in 1.2.\n",
      "  warnings.warn(\n"
     ]
    }
   ],
   "source": [
    "# вычисляем минимум и максимум по обучающим данным\n",
    "scaler = MinMaxScaler().fit(X_train)"
   ]
  },
  {
   "cell_type": "code",
   "execution_count": 359,
   "id": "cfadc71f",
   "metadata": {},
   "outputs": [
    {
     "name": "stderr",
     "output_type": "stream",
     "text": [
      "/Users/yuliabezginova/Library/Python/3.10/lib/python/site-packages/sklearn/utils/validation.py:1858: FutureWarning: Feature names only support names that are all strings. Got feature names with dtypes: ['int', 'str']. An error will be raised in 1.2.\n",
      "  warnings.warn(\n"
     ]
    }
   ],
   "source": [
    "# масштабируем обучающие данные\n",
    "X_train_scaled = scaler.transform(X_train)"
   ]
  },
  {
   "cell_type": "code",
   "execution_count": 360,
   "id": "32013c28",
   "metadata": {},
   "outputs": [
    {
     "name": "stderr",
     "output_type": "stream",
     "text": [
      "/Users/yuliabezginova/Library/Python/3.10/lib/python/site-packages/sklearn/utils/validation.py:1858: FutureWarning: Feature names only support names that are all strings. Got feature names with dtypes: ['int', 'str']. An error will be raised in 1.2.\n",
      "  warnings.warn(\n"
     ]
    }
   ],
   "source": [
    "# вычисляем минимум и максимум по обучающим данным\n",
    "scaler_test = MinMaxScaler().fit(test_dropped)"
   ]
  },
  {
   "cell_type": "code",
   "execution_count": 361,
   "id": "01df8401",
   "metadata": {
    "scrolled": false
   },
   "outputs": [
    {
     "name": "stderr",
     "output_type": "stream",
     "text": [
      "/Users/yuliabezginova/Library/Python/3.10/lib/python/site-packages/sklearn/utils/validation.py:1858: FutureWarning: Feature names only support names that are all strings. Got feature names with dtypes: ['int', 'str']. An error will be raised in 1.2.\n",
      "  warnings.warn(\n"
     ]
    }
   ],
   "source": [
    "# масштабируем тестовые данные и оцениваем качество на масштабированных данных\n",
    "X_test_scaled = scaler_test.transform(test_dropped)"
   ]
  },
  {
   "cell_type": "markdown",
   "id": "af5377ab",
   "metadata": {},
   "source": [
    "## 4.4 Модели"
   ]
  },
  {
   "cell_type": "markdown",
   "id": "315bb7a7",
   "metadata": {},
   "source": [
    "### 4.4.1 Decision Tree\n",
    "https://scikit-learn.org/stable/modules/generated/sklearn.tree.DecisionTreeClassifier.html"
   ]
  },
  {
   "cell_type": "code",
   "execution_count": 362,
   "id": "10275191",
   "metadata": {},
   "outputs": [
    {
     "name": "stdout",
     "output_type": "stream",
     "text": [
      "Наилучшие параметры для Decision Tree: {'criterion': 'gini', 'max_depth': 2, 'splitter': 'best'}\n",
      "CPU times: user 2min 5s, sys: 8.37 s, total: 2min 13s\n",
      "Wall time: 2min 21s\n"
     ]
    }
   ],
   "source": [
    "%%time\n",
    "# Initiating and building Decision Tree model\n",
    "parameters_dt = {\n",
    "    'max_depth': [2, 3, 4, 5],\n",
    "    'splitter': ['best', 'random'],\n",
    "    'criterion': ['gini'] # , 'entropy', 'log_loss']\n",
    "}\n",
    "\n",
    "dt = DecisionTreeClassifier()\n",
    "\n",
    "grid_DT = GridSearchCV(dt, param_grid=parameters_dt)\n",
    "\n",
    "best_decision_tree_model = grid_DT.fit(X_train_scaled, y_train)\n",
    "\n",
    "print('Наилучшие параметры для Decision Tree: {}'.format(best_decision_tree_model.best_params_))"
   ]
  },
  {
   "cell_type": "markdown",
   "id": "af63ce31",
   "metadata": {},
   "source": [
    "### 4.4.2 Random Forest\n",
    "https://scikit-learn.org/stable/modules/generated/sklearn.ensemble.RandomForestClassifier.html"
   ]
  },
  {
   "cell_type": "code",
   "execution_count": 363,
   "id": "e666a1f9",
   "metadata": {},
   "outputs": [
    {
     "name": "stdout",
     "output_type": "stream",
     "text": [
      "Наилучшие параметры для Random Forest: {'criterion': 'gini', 'max_depth': 3, 'n_estimators': 5}\n",
      "CPU times: user 10min 40s, sys: 16.3 s, total: 10min 56s\n",
      "Wall time: 11min 19s\n"
     ]
    }
   ],
   "source": [
    "%%time\n",
    "# Initiating and building Random Forest Regressor model\n",
    "parameters_rf = {\n",
    "    'n_estimators': [5, 10, 20],\n",
    "    'max_depth': [3, 7, 9],\n",
    "    'criterion': ['gini'] #, 'entropy', 'log_loss'],\n",
    "}\n",
    "\n",
    "rf_model = RandomForestClassifier()\n",
    "\n",
    "grid_RF = GridSearchCV(estimator=rf_model, param_grid=parameters_rf)\n",
    "\n",
    "best_random_forest_model = grid_RF.fit(X_train_scaled, y_train)\n",
    "\n",
    "print('Наилучшие параметры для Random Forest: {}'.format(best_random_forest_model.best_params_))"
   ]
  },
  {
   "cell_type": "markdown",
   "id": "7f81dccf",
   "metadata": {},
   "source": [
    "### 4.4.3 Gradient Boosting\n",
    "\n",
    "https://scikit-learn.org/stable/modules/generated/sklearn.ensemble.GradientBoostingClassifier.html\n",
    "\n",
    "https://medium.com/all-things-ai/in-depth-parameter-tuning-for-gradient-boosting-3363992e9bae\n"
   ]
  },
  {
   "cell_type": "code",
   "execution_count": 364,
   "id": "9b0282ba",
   "metadata": {},
   "outputs": [
    {
     "name": "stdout",
     "output_type": "stream",
     "text": [
      "Наилучшие параметры для Gradient Descent: {'learning_rate': 0.1, 'max_depth': 4, 'max_features': 1.0, 'min_samples_leaf': 3, 'n_estimators': 5}\n",
      "CPU times: user 22.5 s, sys: 1.12 s, total: 23.6 s\n",
      "Wall time: 8min 54s\n"
     ]
    }
   ],
   "source": [
    "%%time\n",
    "param_grid={'n_estimators':[5,10], \n",
    "            'learning_rate': [0.1,0.05,0.02],\n",
    "            'max_depth':[4], \n",
    "            'min_samples_leaf':[3], \n",
    "            'max_features':[1.0] } \n",
    "n_jobs=4\n",
    "\n",
    "estimator = GradientBoostingClassifier() \n",
    "gb_classifier = GridSearchCV(estimator=estimator, \n",
    "                          cv=5, \n",
    "                          param_grid=param_grid, \n",
    "                          n_jobs=n_jobs)\n",
    "    \n",
    "best_gb_model = gb_classifier.fit(X_train_scaled, y_train)\n",
    "print('Наилучшие параметры для Gradient Descent: {}'.format(best_gb_model.best_params_))"
   ]
  },
  {
   "cell_type": "code",
   "execution_count": 365,
   "id": "26e23ed8",
   "metadata": {},
   "outputs": [
    {
     "name": "stdout",
     "output_type": "stream",
     "text": [
      "GradientBoostingClassifier(max_depth=4, max_features=1.0, min_samples_leaf=3,\n",
      "                           n_estimators=5)\n",
      "{'cv': 5, 'error_score': nan, 'estimator__ccp_alpha': 0.0, 'estimator__criterion': 'friedman_mse', 'estimator__init': None, 'estimator__learning_rate': 0.1, 'estimator__loss': 'log_loss', 'estimator__max_depth': 3, 'estimator__max_features': None, 'estimator__max_leaf_nodes': None, 'estimator__min_impurity_decrease': 0.0, 'estimator__min_samples_leaf': 1, 'estimator__min_samples_split': 2, 'estimator__min_weight_fraction_leaf': 0.0, 'estimator__n_estimators': 100, 'estimator__n_iter_no_change': None, 'estimator__random_state': None, 'estimator__subsample': 1.0, 'estimator__tol': 0.0001, 'estimator__validation_fraction': 0.1, 'estimator__verbose': 0, 'estimator__warm_start': False, 'estimator': GradientBoostingClassifier(), 'n_jobs': 4, 'param_grid': {'n_estimators': [5, 10], 'learning_rate': [0.1, 0.05, 0.02], 'max_depth': [4], 'min_samples_leaf': [3], 'max_features': [1.0]}, 'pre_dispatch': '2*n_jobs', 'refit': True, 'return_train_score': False, 'scoring': None, 'verbose': 0}\n"
     ]
    }
   ],
   "source": [
    "print(best_gb_model.best_estimator_)\n",
    "print(best_gb_model.get_params())"
   ]
  },
  {
   "cell_type": "markdown",
   "id": "a4215f0e",
   "metadata": {},
   "source": [
    "### Сравнение качества моделей по кросс-валидации: "
   ]
  },
  {
   "cell_type": "code",
   "execution_count": 366,
   "id": "3771af27",
   "metadata": {},
   "outputs": [],
   "source": [
    "from sklearn.metrics import fbeta_score, make_scorer, classification_report, roc_curve, confusion_matrix, roc_auc_score, accuracy_score, f1_score"
   ]
  },
  {
   "cell_type": "code",
   "execution_count": 367,
   "id": "c70fc8e7",
   "metadata": {},
   "outputs": [
    {
     "name": "stdout",
     "output_type": "stream",
     "text": [
      "Best score Decision Tree: 0.92023\n"
     ]
    }
   ],
   "source": [
    "best_score_dt = round(best_decision_tree_model.best_score_, 5)\n",
    "print('Best score Decision Tree: {}'.format(best_score_dt))"
   ]
  },
  {
   "cell_type": "code",
   "execution_count": 368,
   "id": "305f39a6",
   "metadata": {},
   "outputs": [
    {
     "name": "stdout",
     "output_type": "stream",
     "text": [
      "Best score Random Forest: 0.92023\n"
     ]
    }
   ],
   "source": [
    "best_score_rf = round(best_random_forest_model.best_score_, 5)\n",
    "print('Best score Random Forest: {}'.format(best_score_rf))"
   ]
  },
  {
   "cell_type": "code",
   "execution_count": 369,
   "id": "77f9e726",
   "metadata": {},
   "outputs": [
    {
     "name": "stdout",
     "output_type": "stream",
     "text": [
      "Best score Gradient Boosting: 0.92023\n"
     ]
    }
   ],
   "source": [
    "best_score_gb = round(best_gb_model.best_score_, 5)\n",
    "print('Best score Gradient Boosting: {}'.format(best_score_gb))"
   ]
  },
  {
   "cell_type": "markdown",
   "id": "8b305f39",
   "metadata": {},
   "source": [
    "# 5 Тестируем модель на тестовой выборке, предсказываем целевое значение на тестовых данных"
   ]
  },
  {
   "cell_type": "markdown",
   "id": "ad00df34",
   "metadata": {},
   "source": [
    "## 5.1 Предсказания вероятности на модели случайного леса"
   ]
  },
  {
   "cell_type": "code",
   "execution_count": 373,
   "id": "b5332bea",
   "metadata": {},
   "outputs": [],
   "source": [
    "from sklearn.metrics import fbeta_score, make_scorer, classification_report, roc_curve, confusion_matrix, roc_auc_score, accuracy_score, f1_score"
   ]
  },
  {
   "cell_type": "code",
   "execution_count": 374,
   "id": "faab0f19",
   "metadata": {},
   "outputs": [
    {
     "data": {
      "text/plain": [
       "Index([               'reco_id_curr',              'children_count',\n",
       "                            'income',                   'loan_body',\n",
       "                     'days_employed',                 'mobile_flag',\n",
       "               'employee_phone_flag',                  'email_flag',\n",
       "             'family_members__count', 'rating_client_w_city_region',\n",
       "            'not_live_city_reg_city',           'requests_bki_year',\n",
       "                 'down_payment_rate',          'days_first_drawing',\n",
       "                    'days_first_due',              'first_due_date',\n",
       "                     'last_due_date',            'termination_date',\n",
       "                    'insured_last_f',                         'age',\n",
       "                                   0,                             1,\n",
       "                                   2,                             3,\n",
       "                                   4,                             5,\n",
       "                                   6,                             7,\n",
       "                                   8,                             9,\n",
       "                                  10,                            11,\n",
       "                                  12,                            13,\n",
       "                                  14,                            15,\n",
       "                                  16],\n",
       "      dtype='object')"
      ]
     },
     "execution_count": 374,
     "metadata": {},
     "output_type": "execute_result"
    }
   ],
   "source": [
    "test_dropped.columns"
   ]
  },
  {
   "cell_type": "code",
   "execution_count": 375,
   "id": "ee5cb9d9",
   "metadata": {},
   "outputs": [
    {
     "data": {
      "text/plain": [
       "(92163, 37)"
      ]
     },
     "execution_count": 375,
     "metadata": {},
     "output_type": "execute_result"
    }
   ],
   "source": [
    "X_test_scaled.shape"
   ]
  },
  {
   "cell_type": "code",
   "execution_count": 376,
   "id": "13fd7ca5",
   "metadata": {
    "scrolled": false
   },
   "outputs": [
    {
     "data": {
      "text/plain": [
       "array([0, 0, 0, ..., 0, 0, 0])"
      ]
     },
     "execution_count": 376,
     "metadata": {},
     "output_type": "execute_result"
    }
   ],
   "source": [
    "# Random Forest\n",
    "y_pred_rf = best_random_forest_model.predict(X_test_scaled)\n",
    "y_pred_rf"
   ]
  },
  {
   "cell_type": "code",
   "execution_count": 378,
   "id": "bc508894",
   "metadata": {},
   "outputs": [],
   "source": [
    "# X_test_df = test_dropped.drop(columns=['target'])\n",
    "acual_test_pred = test_dropped[['reco_id_curr', 'children_count', 'income', 'loan_body']]"
   ]
  },
  {
   "cell_type": "code",
   "execution_count": 379,
   "id": "f773b5b5",
   "metadata": {},
   "outputs": [
    {
     "data": {
      "text/plain": [
       "array([0.06217648, 0.07133534, 0.06217648, ..., 0.09979065, 0.11410792,\n",
       "       0.10774242])"
      ]
     },
     "execution_count": 379,
     "metadata": {},
     "output_type": "execute_result"
    }
   ],
   "source": [
    "best_random_forest_model.predict_proba(X_test_scaled)[:, 1]"
   ]
  },
  {
   "cell_type": "code",
   "execution_count": 380,
   "id": "f4644f76",
   "metadata": {},
   "outputs": [],
   "source": [
    "acual_test_pred['predictions'] = best_random_forest_model.predict(X_test_scaled)"
   ]
  },
  {
   "cell_type": "code",
   "execution_count": 397,
   "id": "ef1ecb76",
   "metadata": {},
   "outputs": [
    {
     "data": {
      "text/plain": [
       "(92163, 6)"
      ]
     },
     "execution_count": 397,
     "metadata": {},
     "output_type": "execute_result"
    }
   ],
   "source": [
    "acual_test_pred['target'] = np.round(best_random_forest_model.predict_proba(X_test_scaled),3)[:, 1]\n",
    "acual_test_pred.shape"
   ]
  },
  {
   "cell_type": "code",
   "execution_count": 392,
   "id": "82785f75",
   "metadata": {
    "scrolled": true
   },
   "outputs": [
    {
     "data": {
      "text/plain": [
       "reco_id_curr\n",
       "100008    0.0638\n",
       "100017    0.0730\n",
       "100019    0.0850\n",
       "100023    0.0780\n",
       "100043    0.0775\n",
       "           ...  \n",
       "333571    0.0660\n",
       "333577    0.0652\n",
       "333592    0.0750\n",
       "333623    0.0718\n",
       "333627    0.0992\n",
       "Name: target, Length: 21744, dtype: float64"
      ]
     },
     "execution_count": 392,
     "metadata": {},
     "output_type": "execute_result"
    }
   ],
   "source": [
    "test_pred_final = round(acual_test_pred.groupby('reco_id_curr')['target'].mean(), 4)\n",
    "test_pred_final"
   ]
  },
  {
   "cell_type": "code",
   "execution_count": 393,
   "id": "157a7d30",
   "metadata": {},
   "outputs": [
    {
     "data": {
      "text/html": [
       "<div>\n",
       "<style scoped>\n",
       "    .dataframe tbody tr th:only-of-type {\n",
       "        vertical-align: middle;\n",
       "    }\n",
       "\n",
       "    .dataframe tbody tr th {\n",
       "        vertical-align: top;\n",
       "    }\n",
       "\n",
       "    .dataframe thead th {\n",
       "        text-align: right;\n",
       "    }\n",
       "</style>\n",
       "<table border=\"1\" class=\"dataframe\">\n",
       "  <thead>\n",
       "    <tr style=\"text-align: right;\">\n",
       "      <th></th>\n",
       "      <th>target</th>\n",
       "    </tr>\n",
       "    <tr>\n",
       "      <th>reco_id_curr</th>\n",
       "      <th></th>\n",
       "    </tr>\n",
       "  </thead>\n",
       "  <tbody>\n",
       "    <tr>\n",
       "      <th>100008</th>\n",
       "      <td>0.0638</td>\n",
       "    </tr>\n",
       "    <tr>\n",
       "      <th>100017</th>\n",
       "      <td>0.0730</td>\n",
       "    </tr>\n",
       "    <tr>\n",
       "      <th>100019</th>\n",
       "      <td>0.0850</td>\n",
       "    </tr>\n",
       "    <tr>\n",
       "      <th>100023</th>\n",
       "      <td>0.0780</td>\n",
       "    </tr>\n",
       "    <tr>\n",
       "      <th>100043</th>\n",
       "      <td>0.0775</td>\n",
       "    </tr>\n",
       "    <tr>\n",
       "      <th>...</th>\n",
       "      <td>...</td>\n",
       "    </tr>\n",
       "    <tr>\n",
       "      <th>333571</th>\n",
       "      <td>0.0660</td>\n",
       "    </tr>\n",
       "    <tr>\n",
       "      <th>333577</th>\n",
       "      <td>0.0652</td>\n",
       "    </tr>\n",
       "    <tr>\n",
       "      <th>333592</th>\n",
       "      <td>0.0750</td>\n",
       "    </tr>\n",
       "    <tr>\n",
       "      <th>333623</th>\n",
       "      <td>0.0718</td>\n",
       "    </tr>\n",
       "    <tr>\n",
       "      <th>333627</th>\n",
       "      <td>0.0992</td>\n",
       "    </tr>\n",
       "  </tbody>\n",
       "</table>\n",
       "<p>21744 rows × 1 columns</p>\n",
       "</div>"
      ],
      "text/plain": [
       "              target\n",
       "reco_id_curr        \n",
       "100008        0.0638\n",
       "100017        0.0730\n",
       "100019        0.0850\n",
       "100023        0.0780\n",
       "100043        0.0775\n",
       "...              ...\n",
       "333571        0.0660\n",
       "333577        0.0652\n",
       "333592        0.0750\n",
       "333623        0.0718\n",
       "333627        0.0992\n",
       "\n",
       "[21744 rows x 1 columns]"
      ]
     },
     "execution_count": 393,
     "metadata": {},
     "output_type": "execute_result"
    }
   ],
   "source": [
    "test_pred_df = pd.DataFrame(test_pred_final)\n",
    "test_pred_df"
   ]
  },
  {
   "cell_type": "code",
   "execution_count": 394,
   "id": "f964d2ea",
   "metadata": {},
   "outputs": [],
   "source": [
    "answer = test_pred_df.copy()"
   ]
  },
  {
   "cell_type": "code",
   "execution_count": 395,
   "id": "f123ee2a",
   "metadata": {},
   "outputs": [],
   "source": [
    "answer.to_csv('/Users/yuliabezginova/PycharmProjects/00_files-for_NLP/shift_ml_winter_2023/answer.csv')"
   ]
  },
  {
   "cell_type": "markdown",
   "id": "f1cf52e1",
   "metadata": {},
   "source": [
    "## 5.2 Определим, какие из признаков больше всего влияют на целевой признак"
   ]
  },
  {
   "cell_type": "code",
   "execution_count": 396,
   "id": "33964272",
   "metadata": {
    "scrolled": true
   },
   "outputs": [
    {
     "data": {
      "image/png": "[encoded data removed]",
      "text/plain": [
       "<Figure size 1500x1300 with 1 Axes>"
      ]
     },
     "metadata": {},
     "output_type": "display_data"
    }
   ],
   "source": [
    "importance = best_random_forest_model.best_estimator_.feature_importances_\n",
    "indices = np.argsort(importance)\n",
    "\n",
    "fig, ax = plt.subplots(figsize=(15, 13))\n",
    "ax.barh(range(len(importance)), importance[indices])\n",
    "ax.set_yticks(range(len(importance)))\n",
    "_ = ax.set_yticklabels(np.array(test_dropped.columns)[indices])"
   ]
  },
  {
   "cell_type": "markdown",
   "id": "f9654a42",
   "metadata": {},
   "source": [
    "### *Вывод:* Больше всего на целевой признак - *вернет ли клиент кредит банку* - влияют следующие признаки:\n",
    "- **Возраст заемщика** ```age``` - средний возраст в выборке составляет 44.6 лет; описательные статистики показывают, после 40 лет люди скорее возвращают, чем не возвращают кредиты:\n",
    "\n",
    "```\n",
    "0    43.480 лет\n",
    "1    39.115 лет\n",
    "```\n",
    "\n",
    "- **Размер кредита** ```loan_body``` - средний размер займа 603717 руб.; описательные статистики показывают, что меньшие по размеру кредиты (менее 500 тыс. руб) возвращаются хуже, чем займы свыше 500 тыс. руб.\n",
    "```\n",
    "0    517788.0 руб\n",
    "1    497520.0 руб\n",
    "```\n",
    "\n",
    "- **Тип занятости** ```type_of_occupation``` - описательные статистики показывают, что активнее всего берут кредиты рядовые специалисты, среди них же - больше всего невозвратов; в целом, по выборке число заемщиков, которые НЕ вернули кредит составляет не более 5-7%;\n",
    "- **Доход клиента** ```income``` - средний доход заемщика - 168-175 тыс. руб в год; также изучение описательных статистик показывает, что клиенты с меньшим доходом скорее НЕ возвращают кредиты:\n",
    "```\n",
    "0    148500.0 руб\n",
    "1    135000.0 руб\n",
    "```\n",
    "\n",
    "Также на вероятность возврата кредита банку влияют следующие признаки:\n",
    "- **Тип дохода клиента (businessman, working, maternity leave,…)** ```income_type_name```\n",
    "- **Ставка первоначального взноса, нормированная по предыдущему займу** ```down_payment_rate```;\n",
    "- **За сколько дней до оформления займа человек начал текущую работу** - ```days_employed```;\n",
    "- **Когда была первая и последняя выплаты по предыдущему займу относительно даты оформления текущего займа** ```first_due_date```, ```last_due_date```;\n",
    "- **Когда было ожидаемое закрытие предыдущего займа относительно даты оформления текущего займа** ```termination_date```;\n",
    "- **Когда должна была быть первая выплата по предыдущему займу относительно даты оформления текущего займа** ```days_first_due```\n",
    "\n",
    "#### Влияние в меньшей степени на возврат кредита оказывают количество детей, тип образования, лояльность клиента к банку, согласие получать маркетинговые материалы по электронной почте.\n",
    "\n",
    "### Опираясь на результаты данного исследования, банку может быть рекомендовано учитывать наиболее важные признаки при разработке системы кредитного скоринга.\n"
   ]
  }
 ],
 "metadata": {
  "kernelspec": {
   "display_name": "Python 3 (ipykernel)",
   "language": "python",
   "name": "python3"
  },
  "language_info": {
   "codemirror_mode": {
    "name": "ipython",
    "version": 3
   },
   "file_extension": ".py",
   "mimetype": "text/x-python",
   "name": "python",
   "nbconvert_exporter": "python",
   "pygments_lexer": "ipython3",
   "version": "3.10.9"
  }
 },
 "nbformat": 4,
 "nbformat_minor": 5
}
